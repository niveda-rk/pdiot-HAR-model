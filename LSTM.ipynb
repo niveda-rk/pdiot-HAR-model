{
 "cells": [
  {
   "cell_type": "markdown",
   "id": "bdff0323",
   "metadata": {},
   "source": [
    "## Imports"
   ]
  },
  {
   "cell_type": "code",
   "execution_count": 1,
   "id": "4433e37b",
   "metadata": {},
   "outputs": [],
   "source": [
    "import os\n",
    "import pandas as pd\n",
    "import numpy as np\n",
    "import matplotlib.pyplot as plt\n",
    "from sklearn.model_selection import train_test_split\n",
    "from sklearn.model_selection import LeaveOneOut\n",
    "from sklearn.model_selection import cross_val_score\n",
    "from sklearn.metrics import accuracy_score, confusion_matrix\n",
    "\n",
    "from keras.models import Sequential\n",
    "from keras.layers import LSTM, Dense, Flatten, Dropout\n",
    "\n",
    "files = os.listdir(path='data/')"
   ]
  },
  {
   "cell_type": "markdown",
   "id": "62bd41f6",
   "metadata": {},
   "source": [
    "## Types of recordings of Activities"
   ]
  },
  {
   "cell_type": "code",
   "execution_count": 2,
   "id": "7f03e575",
   "metadata": {},
   "outputs": [
    {
     "data": {
      "text/plain": [
       "'Respeck_s1923862_Lying down right_Normal.csv'"
      ]
     },
     "execution_count": 2,
     "metadata": {},
     "output_type": "execute_result"
    }
   ],
   "source": [
    "devices = [\"Respeck\", \"Thingy\"]\n",
    "student_numbers = [\"s1923862\", \"s1915704\", \"s1971889\"]\n",
    "eating_static_activities = [\"Sitting\", \"Standing\"]\n",
    "static_activities = [\"Lying down right\", \"Lying down on left\", \"Lying down on stomach\", \"Lying down back\"]\n",
    "dynamic_activities = [\"Shuffle walking\", \"Normal walking\", \"Running\", \"Ascending stairs\", \"Descending stairs\", \"Miscellaneous movements\"]\n",
    "sub_activities = [\"Normal\", \"Talking\", \"Singing\", \"Coughing\", \"Laughing\", \"Hyperventilating\"]\n",
    "eating_sub_activity = \"Eating\"\n",
    "\n",
    "f\"{devices[0]}_{student_numbers[0]}_{static_activities[0]}_{sub_activities[0]}.csv\""
   ]
  },
  {
   "cell_type": "markdown",
   "id": "cc4dab2e",
   "metadata": {},
   "source": [
    "## Build consolidated DF of all recordings"
   ]
  },
  {
   "cell_type": "code",
   "execution_count": 3,
   "id": "795c9578",
   "metadata": {},
   "outputs": [
    {
     "data": {
      "text/html": [
       "<div>\n",
       "<style scoped>\n",
       "    .dataframe tbody tr th:only-of-type {\n",
       "        vertical-align: middle;\n",
       "    }\n",
       "\n",
       "    .dataframe tbody tr th {\n",
       "        vertical-align: top;\n",
       "    }\n",
       "\n",
       "    .dataframe thead th {\n",
       "        text-align: right;\n",
       "    }\n",
       "</style>\n",
       "<table border=\"1\" class=\"dataframe\">\n",
       "  <thead>\n",
       "    <tr style=\"text-align: right;\">\n",
       "      <th></th>\n",
       "      <th>timestamp</th>\n",
       "      <th>accel_x</th>\n",
       "      <th>accel_y</th>\n",
       "      <th>accel_z</th>\n",
       "      <th>gyro_x</th>\n",
       "      <th>gyro_y</th>\n",
       "      <th>gyro_z</th>\n",
       "      <th>student_number</th>\n",
       "      <th>activity</th>\n",
       "      <th>sub_activity</th>\n",
       "      <th>is_static</th>\n",
       "    </tr>\n",
       "  </thead>\n",
       "  <tbody>\n",
       "    <tr>\n",
       "      <th>0</th>\n",
       "      <td>1695993500435</td>\n",
       "      <td>0.866455</td>\n",
       "      <td>0.200378</td>\n",
       "      <td>0.483093</td>\n",
       "      <td>0.171875</td>\n",
       "      <td>-0.171875</td>\n",
       "      <td>0.093750</td>\n",
       "      <td>s1923862</td>\n",
       "      <td>Lying down right</td>\n",
       "      <td>Normal</td>\n",
       "      <td>1</td>\n",
       "    </tr>\n",
       "    <tr>\n",
       "      <th>1</th>\n",
       "      <td>1695993500475</td>\n",
       "      <td>0.865967</td>\n",
       "      <td>0.199890</td>\n",
       "      <td>0.478699</td>\n",
       "      <td>-0.109375</td>\n",
       "      <td>-0.062500</td>\n",
       "      <td>-0.125000</td>\n",
       "      <td>s1923862</td>\n",
       "      <td>Lying down right</td>\n",
       "      <td>Normal</td>\n",
       "      <td>1</td>\n",
       "    </tr>\n",
       "    <tr>\n",
       "      <th>2</th>\n",
       "      <td>1695993500515</td>\n",
       "      <td>0.861816</td>\n",
       "      <td>0.194519</td>\n",
       "      <td>0.488220</td>\n",
       "      <td>-0.046875</td>\n",
       "      <td>-0.390625</td>\n",
       "      <td>-0.156250</td>\n",
       "      <td>s1923862</td>\n",
       "      <td>Lying down right</td>\n",
       "      <td>Normal</td>\n",
       "      <td>1</td>\n",
       "    </tr>\n",
       "    <tr>\n",
       "      <th>3</th>\n",
       "      <td>1695993500555</td>\n",
       "      <td>0.869629</td>\n",
       "      <td>0.199158</td>\n",
       "      <td>0.488464</td>\n",
       "      <td>-0.109375</td>\n",
       "      <td>0.187500</td>\n",
       "      <td>0.109375</td>\n",
       "      <td>s1923862</td>\n",
       "      <td>Lying down right</td>\n",
       "      <td>Normal</td>\n",
       "      <td>1</td>\n",
       "    </tr>\n",
       "    <tr>\n",
       "      <th>4</th>\n",
       "      <td>1695993500595</td>\n",
       "      <td>0.862061</td>\n",
       "      <td>0.198181</td>\n",
       "      <td>0.488464</td>\n",
       "      <td>-0.093750</td>\n",
       "      <td>0.515625</td>\n",
       "      <td>0.218750</td>\n",
       "      <td>s1923862</td>\n",
       "      <td>Lying down right</td>\n",
       "      <td>Normal</td>\n",
       "      <td>1</td>\n",
       "    </tr>\n",
       "    <tr>\n",
       "      <th>5</th>\n",
       "      <td>1695993500635</td>\n",
       "      <td>0.864014</td>\n",
       "      <td>0.198669</td>\n",
       "      <td>0.485291</td>\n",
       "      <td>-0.218750</td>\n",
       "      <td>0.562500</td>\n",
       "      <td>0.156250</td>\n",
       "      <td>s1923862</td>\n",
       "      <td>Lying down right</td>\n",
       "      <td>Normal</td>\n",
       "      <td>1</td>\n",
       "    </tr>\n",
       "    <tr>\n",
       "      <th>6</th>\n",
       "      <td>1695993500675</td>\n",
       "      <td>0.865234</td>\n",
       "      <td>0.199158</td>\n",
       "      <td>0.476990</td>\n",
       "      <td>-0.140625</td>\n",
       "      <td>0.453125</td>\n",
       "      <td>0.203125</td>\n",
       "      <td>s1923862</td>\n",
       "      <td>Lying down right</td>\n",
       "      <td>Normal</td>\n",
       "      <td>1</td>\n",
       "    </tr>\n",
       "    <tr>\n",
       "      <th>7</th>\n",
       "      <td>1695993500715</td>\n",
       "      <td>0.869629</td>\n",
       "      <td>0.190857</td>\n",
       "      <td>0.488708</td>\n",
       "      <td>-1.546875</td>\n",
       "      <td>0.812500</td>\n",
       "      <td>0.062500</td>\n",
       "      <td>s1923862</td>\n",
       "      <td>Lying down right</td>\n",
       "      <td>Normal</td>\n",
       "      <td>1</td>\n",
       "    </tr>\n",
       "    <tr>\n",
       "      <th>8</th>\n",
       "      <td>1695993500755</td>\n",
       "      <td>0.861572</td>\n",
       "      <td>0.193542</td>\n",
       "      <td>0.485046</td>\n",
       "      <td>-0.140625</td>\n",
       "      <td>0.953125</td>\n",
       "      <td>0.265625</td>\n",
       "      <td>s1923862</td>\n",
       "      <td>Lying down right</td>\n",
       "      <td>Normal</td>\n",
       "      <td>1</td>\n",
       "    </tr>\n",
       "    <tr>\n",
       "      <th>9</th>\n",
       "      <td>1695993500795</td>\n",
       "      <td>0.866455</td>\n",
       "      <td>0.199402</td>\n",
       "      <td>0.478210</td>\n",
       "      <td>-0.546875</td>\n",
       "      <td>0.984375</td>\n",
       "      <td>0.343750</td>\n",
       "      <td>s1923862</td>\n",
       "      <td>Lying down right</td>\n",
       "      <td>Normal</td>\n",
       "      <td>1</td>\n",
       "    </tr>\n",
       "  </tbody>\n",
       "</table>\n",
       "</div>"
      ],
      "text/plain": [
       "       timestamp   accel_x   accel_y   accel_z    gyro_x    gyro_y    gyro_z  \\\n",
       "0  1695993500435  0.866455  0.200378  0.483093  0.171875 -0.171875  0.093750   \n",
       "1  1695993500475  0.865967  0.199890  0.478699 -0.109375 -0.062500 -0.125000   \n",
       "2  1695993500515  0.861816  0.194519  0.488220 -0.046875 -0.390625 -0.156250   \n",
       "3  1695993500555  0.869629  0.199158  0.488464 -0.109375  0.187500  0.109375   \n",
       "4  1695993500595  0.862061  0.198181  0.488464 -0.093750  0.515625  0.218750   \n",
       "5  1695993500635  0.864014  0.198669  0.485291 -0.218750  0.562500  0.156250   \n",
       "6  1695993500675  0.865234  0.199158  0.476990 -0.140625  0.453125  0.203125   \n",
       "7  1695993500715  0.869629  0.190857  0.488708 -1.546875  0.812500  0.062500   \n",
       "8  1695993500755  0.861572  0.193542  0.485046 -0.140625  0.953125  0.265625   \n",
       "9  1695993500795  0.866455  0.199402  0.478210 -0.546875  0.984375  0.343750   \n",
       "\n",
       "  student_number          activity sub_activity  is_static  \n",
       "0       s1923862  Lying down right       Normal          1  \n",
       "1       s1923862  Lying down right       Normal          1  \n",
       "2       s1923862  Lying down right       Normal          1  \n",
       "3       s1923862  Lying down right       Normal          1  \n",
       "4       s1923862  Lying down right       Normal          1  \n",
       "5       s1923862  Lying down right       Normal          1  \n",
       "6       s1923862  Lying down right       Normal          1  \n",
       "7       s1923862  Lying down right       Normal          1  \n",
       "8       s1923862  Lying down right       Normal          1  \n",
       "9       s1923862  Lying down right       Normal          1  "
      ]
     },
     "execution_count": 3,
     "metadata": {},
     "output_type": "execute_result"
    }
   ],
   "source": [
    "def get_new_dataframe(student_number, activity, sub_activity, is_static):\n",
    "    file = f\"{devices[0]}_{student_number}_{activity}_{sub_activity}.csv\"\n",
    "    filename = \"data/\"+ file\n",
    "    df = pd.read_csv(filename, index_col='Unnamed: 0')\n",
    "    df['student_number'] = student_number\n",
    "    df['activity'] = activity\n",
    "    df['sub_activity'] = sub_activity\n",
    "    df['is_static'] = is_static\n",
    "    return df.drop('ind', axis=1)\n",
    "\n",
    "dataset = pd.DataFrame()\n",
    "\n",
    "for student_number in student_numbers:\n",
    "    for activity in static_activities:\n",
    "        for sub_activity in sub_activities:\n",
    "            dataset = pd.concat([dataset, get_new_dataframe(student_number, activity, sub_activity, 1)])\n",
    "\n",
    "    for activity in eating_static_activities:\n",
    "        for sub_activity in sub_activities:\n",
    "            dataset = pd.concat([dataset, get_new_dataframe(student_number, activity, sub_activity, 1)])\n",
    "        dataset = pd.concat([dataset, get_new_dataframe(student_number, activity, eating_sub_activity, 1)])\n",
    "\n",
    "    for activity in dynamic_activities:\n",
    "        dataset = pd.concat([dataset, get_new_dataframe(student_number, activity, sub_activities[0], 0)])\n",
    "\n",
    "dataset.head(10)"
   ]
  },
  {
   "cell_type": "markdown",
   "id": "f0388860",
   "metadata": {},
   "source": [
    "## Sliding window to generate overlapping intervals of recordings\n",
    "Interval size is temporarily set to 2 secs (ie, 50 recording points)"
   ]
  },
  {
   "cell_type": "code",
   "execution_count": 4,
   "id": "d641af34",
   "metadata": {},
   "outputs": [],
   "source": [
    "random_seed = 42   \n",
    "n_time_steps = 50 \n",
    "n_features = 3\n",
    "step = 10\n",
    "n_classes = 6 \n",
    "n_epochs = 60       \n",
    "batch_size = 1024   \n",
    "learning_rate = 0.0025\n",
    "l2_loss = 0.0015\n",
    "segments = []\n",
    "labels = []\n",
    "\n",
    "x = 760\n",
    "while x<dataset.shape[0]:\n",
    "    for i in range(x-760,  x-n_time_steps, step):  \n",
    "        accel_xs = dataset['accel_x'].values[i: i + n_time_steps]\n",
    "        accel_ys = dataset['accel_y'].values[i: i + n_time_steps]\n",
    "        accel_zs = dataset['accel_z'].values[i: i + n_time_steps]\n",
    "\n",
    "        label = dataset['activity'].values[i]\n",
    "\n",
    "        segments.append([accel_xs, accel_ys, accel_zs])\n",
    "\n",
    "        labels.append(label)\n",
    "    \n",
    "    x+=760\n",
    "\n",
    "#reshape the segments which is (list of arrays) to a list\n",
    "reshaped_segments = np.asarray(segments, dtype= np.float32).reshape(-1, n_time_steps, n_features)\n",
    "\n",
    "\n",
    "labels = np.asarray(pd.get_dummies(labels), dtype = np.float32)\n",
    "\n",
    "X_train, X_test, y_train, y_test = train_test_split(reshaped_segments, labels, test_size = 0.2, random_state = random_seed)\n"
   ]
  },
  {
   "cell_type": "code",
   "execution_count": null,
   "id": "622e7737",
   "metadata": {},
   "outputs": [],
   "source": []
  },
  {
   "cell_type": "markdown",
   "id": "e6dfefd0",
   "metadata": {},
   "source": [
    "## Build Multi-layer model\n",
    "Modify hyperparameters"
   ]
  },
  {
   "cell_type": "code",
   "execution_count": 5,
   "id": "e9af27d4",
   "metadata": {},
   "outputs": [
    {
     "name": "stdout",
     "output_type": "stream",
     "text": [
      "Model: \"sequential\"\n",
      "_________________________________________________________________\n",
      " Layer (type)                Output Shape              Param #   \n",
      "=================================================================\n",
      " lstm (LSTM)                 (None, 128)               67584     \n",
      "                                                                 \n",
      " dropout (Dropout)           (None, 128)               0         \n",
      "                                                                 \n",
      " dense (Dense)               (None, 64)                8256      \n",
      "                                                                 \n",
      " dense_1 (Dense)             (None, 12)                780       \n",
      "                                                                 \n",
      "=================================================================\n",
      "Total params: 76,620\n",
      "Trainable params: 76,620\n",
      "Non-trainable params: 0\n",
      "_________________________________________________________________\n"
     ]
    }
   ],
   "source": [
    "model = Sequential()\n",
    "# RNN layer\n",
    "model.add(LSTM(units = 128, input_shape = (X_train.shape[1], X_train.shape[2])))\n",
    "# # Dropout layer\n",
    "model.add(Dropout(0.5))\n",
    "# Dense layer with ReLu\n",
    "model.add(Dense(units = 64, activation='relu'))\n",
    "# Softmax layer\n",
    "model.add(Dense(y_train.shape[1], activation = 'softmax'))\n",
    "# Compile model\n",
    "model.compile(loss='categorical_crossentropy', optimizer='adam', metrics=['accuracy'])\n",
    "\n",
    "model.summary()"
   ]
  },
  {
   "cell_type": "markdown",
   "id": "8771479b",
   "metadata": {},
   "source": [
    "## Train model"
   ]
  },
  {
   "cell_type": "code",
   "execution_count": 7,
   "id": "0e7f9e11",
   "metadata": {},
   "outputs": [
    {
     "name": "stdout",
     "output_type": "stream",
     "text": [
      "Epoch 1/10\n",
      "6/6 [==============================] - 3s 441ms/step - loss: 0.3982 - accuracy: 0.8454 - val_loss: 0.3407 - val_accuracy: 0.8683\n",
      "Epoch 2/10\n",
      "6/6 [==============================] - 3s 447ms/step - loss: 0.3810 - accuracy: 0.8538 - val_loss: 0.3419 - val_accuracy: 0.8716\n",
      "Epoch 3/10\n",
      "6/6 [==============================] - 3s 448ms/step - loss: 0.3894 - accuracy: 0.8495 - val_loss: 0.3439 - val_accuracy: 0.8636\n",
      "Epoch 4/10\n",
      "6/6 [==============================] - 3s 439ms/step - loss: 0.3898 - accuracy: 0.8486 - val_loss: 0.3618 - val_accuracy: 0.8515\n",
      "Epoch 5/10\n",
      "6/6 [==============================] - 3s 459ms/step - loss: 0.3926 - accuracy: 0.8427 - val_loss: 0.3660 - val_accuracy: 0.8569\n",
      "Epoch 6/10\n",
      "6/6 [==============================] - 3s 460ms/step - loss: 0.3941 - accuracy: 0.8451 - val_loss: 0.3440 - val_accuracy: 0.8663\n",
      "Epoch 7/10\n",
      "6/6 [==============================] - 3s 472ms/step - loss: 0.3821 - accuracy: 0.8520 - val_loss: 0.3480 - val_accuracy: 0.8629\n",
      "Epoch 8/10\n",
      "6/6 [==============================] - 3s 444ms/step - loss: 0.3944 - accuracy: 0.8451 - val_loss: 0.3638 - val_accuracy: 0.8575\n",
      "Epoch 9/10\n",
      "6/6 [==============================] - 3s 449ms/step - loss: 0.4143 - accuracy: 0.8417 - val_loss: 0.3493 - val_accuracy: 0.8696\n",
      "Epoch 10/10\n",
      "6/6 [==============================] - 3s 435ms/step - loss: 0.3996 - accuracy: 0.8501 - val_loss: 0.3294 - val_accuracy: 0.8770\n",
      "2/2 [==============================] - 0s 139ms/step - loss: 0.3734 - accuracy: 0.8598\n"
     ]
    },
    {
     "data": {
      "text/plain": [
       "[0.3733690083026886, 0.8597528338432312]"
      ]
     },
     "execution_count": 7,
     "metadata": {},
     "output_type": "execute_result"
    }
   ],
   "source": [
    "model.fit(X_train, y_train, epochs = 10, validation_split = 0.20, batch_size = batch_size, verbose = 1)\n",
    "model.evaluate(X_test, y_test, batch_size = batch_size, verbose = 1)"
   ]
  },
  {
   "cell_type": "markdown",
   "id": "b2937616",
   "metadata": {},
   "source": [
    "The following cell is how we expect to be able to use the model to predict the activity"
   ]
  },
  {
   "cell_type": "code",
   "execution_count": 10,
   "id": "53f1f61c",
   "metadata": {},
   "outputs": [
    {
     "name": "stdout",
     "output_type": "stream",
     "text": [
      "59/59 [==============================] - 1s 16ms/step\n"
     ]
    },
    {
     "data": {
      "text/plain": [
       "'Standing'"
      ]
     },
     "execution_count": 10,
     "metadata": {},
     "output_type": "execute_result"
    }
   ],
   "source": [
    "# How to predict activity\n",
    "activities = ['Ascending stairs',\n",
    " 'Descending stairs',\n",
    " 'Lying down back',\n",
    " 'Lying down on left',\n",
    " 'Lying down on stomach',\n",
    " 'Lying down right',\n",
    " 'Miscellaneous movements',\n",
    " 'Normal walking',\n",
    " 'Running',\n",
    " 'Shuffle walking',\n",
    " 'Sitting',\n",
    " 'Standing']\n",
    "\n",
    "y_prd = model.predict(X_test)\n",
    "activities[np.argmax(y_prd[0])]"
   ]
  },
  {
   "cell_type": "code",
   "execution_count": 11,
   "id": "03c8d95d",
   "metadata": {},
   "outputs": [
    {
     "data": {
      "text/plain": [
       "array([[ 50,   0,   0,   0,   0,   0,   0,   0,   0,   0,   2,   0],\n",
       "       [  0,  12,   0,   0,   0,   0,   0,   0,   0,   0,  31,  14],\n",
       "       [  0,   0, 249,   0,   0,   0,   0,   0,   0,   0,   0,   0],\n",
       "       [  0,   0,   0, 248,   0,   0,   0,   0,   0,   0,   0,   0],\n",
       "       [  0,   0,   0,   0, 257,   0,   0,   0,   0,   0,   0,   0],\n",
       "       [  0,   0,   0,   0,   0, 244,   0,   0,   0,   0,   0,   0],\n",
       "       [  3,   0,   0,   0,   0,   0,  10,   0,   8,   0,   6,   4],\n",
       "       [  0,   0,   0,   0,   0,   0,   0,   0,   0,   0,  41,   0],\n",
       "       [  2,   0,   0,   0,   0,   0,   0,   0,  50,   0,   0,   0],\n",
       "       [  5,   0,   0,   0,   0,   0,   0,   0,   0,   0,  34,   4],\n",
       "       [ 16,   0,   0,   0,   0,   0,   0,   0,   0,   0, 235,  54],\n",
       "       [  0,   0,  19,   0,   0,   0,   0,   0,   0,   0,  18, 245]],\n",
       "      dtype=int64)"
      ]
     },
     "execution_count": 11,
     "metadata": {},
     "output_type": "execute_result"
    }
   ],
   "source": [
    "confusion_matrix(list(map(np.argmax, y_test)), list(map(np.argmax, y_prd)))"
   ]
  },
  {
   "cell_type": "markdown",
   "id": "de817734",
   "metadata": {},
   "source": [
    "## Export trained model to .tflite file"
   ]
  },
  {
   "cell_type": "code",
   "execution_count": 13,
   "id": "5ee2cc26",
   "metadata": {},
   "outputs": [
    {
     "name": "stderr",
     "output_type": "stream",
     "text": [
      "WARNING:absl:Found untraced functions such as lstm_cell_layer_call_fn, lstm_cell_layer_call_and_return_conditional_losses while saving (showing 2 of 2). These functions will not be directly callable after loading.\n"
     ]
    },
    {
     "name": "stdout",
     "output_type": "stream",
     "text": [
      "INFO:tensorflow:Assets written to: C:\\Users\\Arun8\\AppData\\Local\\Temp\\tmp645httjo\\assets\n"
     ]
    },
    {
     "name": "stderr",
     "output_type": "stream",
     "text": [
      "INFO:tensorflow:Assets written to: C:\\Users\\Arun8\\AppData\\Local\\Temp\\tmp645httjo\\assets\n"
     ]
    },
    {
     "data": {
      "text/plain": [
       "92552"
      ]
     },
     "execution_count": 13,
     "metadata": {},
     "output_type": "execute_result"
    }
   ],
   "source": [
    "from tensorflow import lite\n",
    "import tensorflow as tf\n",
    "converter = lite.TFLiteConverter.from_keras_model(model)\n",
    "\n",
    "converter.optimizations = [tf.lite.Optimize.DEFAULT]\n",
    "# converter.experimental_new_converter=True\n",
    "converter.target_spec.supported_ops = [tf.lite.OpsSet.TFLITE_BUILTINS, tf.lite.OpsSet.SELECT_TF_OPS]\n",
    "\n",
    "tfmodel = converter.convert()\n",
    "open('lstm2.tflite', 'wb').write(tfmodel)\n"
   ]
  },
  {
   "cell_type": "code",
   "execution_count": 14,
   "id": "c146e067",
   "metadata": {},
   "outputs": [
    {
     "name": "stdout",
     "output_type": "stream",
     "text": [
      "[[-4.727551   -4.010392   -3.9730744  -3.9590197  -3.6293461  -3.9232976\n",
      "  -4.2992415  -3.8785055  -3.075963   -5.2122164  -4.2707667  -4.754139\n",
      "  -4.840304   -4.429952   -4.1886954  -4.5068417  -4.60805    -3.8054304\n",
      "  -3.8760874  -4.3564243  -3.8211055  -3.4086878  -3.631978   -3.2071946\n",
      "  -3.9590394  -4.617197   -4.70587    -3.9188297  -4.344318   -4.5759325\n",
      "  -5.261177   -3.0069904  -3.8978975  -4.447899   -4.294748   -4.7112155\n",
      "  -4.5429325  -4.2497783  -3.5728066  -4.703055   -4.4069805  -4.5004325\n",
      "  -3.8658457  -4.7675667  -4.260559   -4.4982905  -4.193301   -4.5409875\n",
      "  -4.9150705  -5.068224   -4.7765284  -5.5043483  -4.7737193  -3.786916\n",
      "  -4.1793213  -4.7608953  -3.9973407  -5.12015    -4.6868668  -1.9843068\n",
      "  -2.4742975  -4.579955   -4.6514096  -3.5777776  -3.9996676  -3.9738598\n",
      "  -4.5804973  -4.009182   -4.179177   -3.9049804  -4.3946495  -3.32036\n",
      "  -4.734847   -2.862324   -4.9822745  -3.982811   -4.2214246  -3.9363012\n",
      "  -2.8993793  -3.3020766  -4.17677    -4.5623384  -4.5186543  -5.0584702\n",
      "  -4.5501146  -4.2453012  -3.7264779  -4.0117707  -3.7103126  -3.8947847\n",
      "  -4.954965   -4.2273736  -3.8659313  -3.5279357  -3.6293907  -4.682299\n",
      "  -3.6791596  -5.2211094  -5.6226354  -4.552324   -4.9070077  -4.161335\n",
      "  -5.1373672  -4.3456793  -4.4294176  -5.259113   -4.4812255  -2.4757764\n",
      "  -4.8603463  -5.028412   -3.9222426  -0.14162338 -3.7034802  -3.2835314\n",
      "  -4.2219524  -4.049148   -4.8377614  -3.9290278  -4.904596   -4.9620776\n",
      "  -4.1299124  -5.252044   -4.733838   -5.005967   -4.9134655  -4.172052\n",
      "  -3.6694071  -4.3003306  -3.6492429  -4.350341   -4.1449814  -4.090316\n",
      "  -4.070509   -4.9054465  -4.9085817  -3.8126128  -4.4655876  -4.192621\n",
      "  -5.088653   -5.0274596  -5.1212044  -4.944491   -4.8580813  -4.7794814\n",
      "  -4.2136793  -4.846241   -4.0970473  -3.5971522  -3.76322    -4.726001\n",
      "  -4.9884872  -3.4143274  -4.2368608  -4.0633087  -3.9077296  -4.5449014\n",
      "  -4.836958   -5.8657074  -4.640202   -4.703036   -5.0647173  -5.057675\n",
      "  -3.7546527  -3.7520182  -5.234097   -4.699811   -4.596574   -4.6454315\n",
      "  -4.460601   -4.8872604  -5.311731   -5.0224524  -4.5775824  -3.6702526\n",
      "  -4.915094   -5.378318   -5.349956   -5.2849917  -4.4311304  -4.136692\n",
      "  -5.0546403  -4.260545   -4.1778393  -4.485588   -4.760533   -4.6696606\n",
      "  -3.7936733  -4.756002   -4.54625    -3.457769   -4.03304    -4.660275\n",
      "  -5.3515396  -5.2872415  -4.2521067  -4.0026374  -5.135139   -5.6181097\n",
      "  -5.849561   -3.6626205  -3.972067   -4.6835756  -4.9285784  -3.9187853\n",
      "  -4.4817624  -3.883697   -3.4174223  -4.7315965  -4.7617416  -4.3939\n",
      "  -4.8961897  -5.060526   -4.7206445  -3.7421181  -5.128322   -5.0330863\n",
      "  -4.247875   -5.051586   -4.794403   -4.4817553  -4.0470495  -4.4066157\n",
      "  -4.437676   -3.6391966  -3.6196659  -4.3398323  -4.6149607  -3.8725386\n",
      "  -4.185548   -4.365061   -5.2660265  -5.0179434  -4.628131   -4.404137\n",
      "  -5.5578837  -5.3076496  -4.8740263  -4.4837584  -4.834945   -4.791125\n",
      "  -4.7695355  -4.2032566  -5.0715237  -5.7155547  -4.641828   -4.618001\n",
      "  -5.8775024  -4.7248826  -5.2692423  -5.3274803  -4.157278   -4.3292336\n",
      "  -4.175601   -5.1507835  -4.709243   -4.750303   -4.9001074  -5.1018176\n",
      "  -4.5236387  -5.0010524  -3.9973533  -5.515482   -3.9492078  -4.947273\n",
      "  -3.708795   -3.6345725  -4.0158205  -5.189968   -4.9942713  -4.5590863\n",
      "  -4.420486   -4.367682   -4.793421   -3.978764   -3.6612043  -4.8430657\n",
      "  -3.93532    -4.9564495  -4.9145174  -4.9338007  -4.1962376  -4.9209642\n",
      "  -3.9156759  -3.9160883  -4.1360855  -3.8395448  -4.733538   -6.148258\n",
      "  -3.5868998  -4.3388314  -4.444037   -5.936495   -5.7459545  -5.261944\n",
      "  -4.353286   -3.5798666  -4.914999   -3.6811862  -4.187101   -4.5786543\n",
      "  -4.6260066  -2.5181985  -3.8392773  -4.2226224  -4.041087   -3.9781935\n",
      "  -3.8929815  -3.6008294  -4.1040626  -4.437768   -2.8222442  -3.3619225\n",
      "  -2.9802544  -3.4764388  -2.8224554  -3.6978965  -3.8006413  -2.96503\n",
      "  -3.151573   -3.7035718  -3.0731425  -4.6803117  -4.7720685  -4.7628427\n",
      "  -4.517889   -4.186704   -3.5963933  -4.5252924  -4.483029   -6.019082\n",
      "  -4.6774487  -4.823692   -4.203308   -4.770423   -5.3567104  -4.920034\n",
      "  -5.0078144  -5.217825   -5.270051   -4.2616887  -5.4525166  -4.77093\n",
      "  -4.683102   -4.9300923  -5.9749203  -4.4465137  -5.128769   -4.3609633\n",
      "  -5.144299   -4.314349   -3.946569   -4.648924   -4.414845   -4.052823\n",
      "  -4.106202   -5.065906   -4.453941   -4.0716615  -4.327608   -4.351803\n",
      "  -5.004156   -3.8537793  -4.394763   -4.421108   -4.275719   -4.728184\n",
      "  -3.6032138  -3.6462343  -4.186738   -4.5196996  -5.100072   -4.3243227\n",
      "  -4.5101123  -4.4856496  -4.5333304  -4.5016317  -4.919474   -3.7570562\n",
      "  -4.1563773  -3.978774   -3.0538354  -4.2684298  -4.9894133  -4.4907866\n",
      "  -3.302567   -5.166489   -4.9894414  -4.845549   -4.525863   -4.6938343\n",
      "  -5.266383   -5.1397424  -4.196199   -5.027348   -4.507951   -3.681596\n",
      "  -5.357228   -5.3006015  -4.19008    -3.4050615  -4.036934   -4.9006724\n",
      "  -3.3480854  -4.708803   -4.1700816  -3.3142834  -5.062968   -4.9681587\n",
      "  -5.7048182  -4.06835    -4.820452   -5.311108   -4.438385   -4.2570906\n",
      "  -4.649056   -5.619023   -3.3019657  -4.0653577  -3.195139   -3.8349652\n",
      "  -4.2529225  -4.4018536  -4.3885536  -4.2859583  -4.409866   -4.3608985\n",
      "  -4.845512   -2.8910306  -4.2419486  -3.3722446  -3.8779638  -4.8225827\n",
      "  -3.9001107  -4.4018965  -5.11686    -4.432675   -4.4766965  -4.0855937\n",
      "  -3.7642539  -3.6235247  -4.1540985  -3.0623212  -3.3650382  -4.2773285\n",
      "  -4.2490106  -4.446094   -2.3319848  -3.6962335  -4.513787   -4.60976\n",
      "  -5.006884   -3.350892   -3.9371662  -4.774371   -5.2351613  -4.5288496\n",
      "  -4.1914573  -3.4588687  -4.183843   -3.0721328  -5.1623764  -3.6166246\n",
      "  -3.1407454  -3.4010203  -2.4603002  -3.847443   -4.8147225  -4.7596774\n",
      "  -4.532072   -3.2983418  -1.9197013  -4.636115   -4.4373546  -4.159741\n",
      "  -5.530116   -4.6260786  -3.6814811  -4.9987364  -4.9716797  -3.7502809\n",
      "  -4.1340623  -3.8870957  -4.786227   -4.5380344  -4.7176094  -4.0352373\n",
      "  -3.9898503  -3.3892117  -1.9954276  -5.120651   -3.8117282  -4.277599\n",
      "  -3.6902795  -5.3269897  -3.9322772  -5.312847   -5.4695845  -4.540737\n",
      "  -4.2442827  -3.4302378  -4.1420245  -3.217955   -5.025374   -3.1506264\n",
      "  -3.6074972  -3.9456766  -3.3197849  -3.722757   -3.1378665  -5.108432\n",
      "  -2.9058359  -5.1149516  -2.5221279  -4.151288   -3.5982482  -2.6416595\n",
      "  -4.5877886  -4.17564    -4.1895814  -4.0027966  -5.2431717  -4.8388352\n",
      "  -4.5096583  -3.712714   -4.875919   -5.693059   -5.516868   -4.4255\n",
      "  -4.6661696  -4.3055573  -0.60003096 -2.858423   -4.547772   -3.5967913\n",
      "  -3.3405042  -4.7285347  -4.0565023  -4.9461713  -3.8404994  -3.3000095\n",
      "  -4.0185537  -3.2671626  -2.9586985  -4.6767554  -4.305907   -4.05478\n",
      "  -3.8563569  -4.6623673  -5.565621   -3.8370562  -4.911739   -4.980066\n",
      "  -4.948222   -5.0515494  -4.646404   -4.724945   -2.796611   -3.2048247\n",
      "  -4.338579   -5.109816   -5.146146   -4.4475307  -3.4048615  -4.0192404\n",
      "  -5.424173   -5.0803423  -4.806271   -4.6208453  -4.777444   -5.374485\n",
      "  -3.6958382  -4.571283   -4.032521   -4.3416247  -3.5246155  -3.46151\n",
      "  -4.996548   -4.4367585  -5.4066725  -3.6072073  -4.4006457  -4.252399\n",
      "  -4.136287   -3.3449936  -3.463831   -5.0043063  -4.656185   -3.885529\n",
      "  -2.911835   -5.3266606  -5.0747566  -4.137931   -3.2794433  -3.0497046\n",
      "  -4.1156774  -5.542638   -3.0209916  -4.814238   -4.0842485  -2.8801801\n",
      "  -2.3100386  -2.8841107  -3.1388896  -4.858952   -2.2586856  -4.217152\n",
      "  -4.166758   -2.4508247  -4.1457095  -4.9543357  -4.0092797  -4.783141\n",
      "  -4.1688614  -5.2510386  -5.513639   -3.9523516  -2.847336   -4.351949\n",
      "  -3.6617556  -2.1314409  -3.1210709  -4.8853683  -4.2929873  -2.6443045\n",
      "  -4.647856   -4.6545534  -2.6909862  -4.776002   -4.46567    -3.6200955\n",
      "  -4.623408   -5.3549647  -3.327305   -3.9571528  -3.6845603  -4.3332396\n",
      "  -3.4142718  -3.7182899  -4.950414   -4.7918787  -4.7072444  -4.240894\n",
      "  -4.6205163  -4.5112824  -0.70124227 -4.1638165  -3.7449746  -4.0441294\n",
      "  -5.3406825  -4.1166015  -3.1116295  -3.1295848  -4.810854   -4.6143174\n",
      "  -5.090595   -4.234648   -5.002979   -3.464249   -4.493418   -3.6649702\n",
      "  -4.529099   -4.979817   -3.1762369  -3.7127638  -3.5197718  -4.991637\n",
      "  -3.079767   -3.5331018  -4.3649797  -5.8010325  -4.389628   -4.620008\n",
      "  -4.1338806  -4.4701633  -3.8105247  -4.9360313  -5.3415537  -1.8922645\n",
      "  -4.1177845  -3.595268   -3.3752275  -2.7812696  -2.8554888  -3.7220936\n",
      "  -3.9132228  -3.761635   -4.34375    -5.2145963  -2.7809389  -4.28811\n",
      "  -4.9150186  -4.4842415  -3.9222047  -4.164013   -4.6886272  -4.695271\n",
      "  -4.2246833  -5.3812466  -3.2544448  -3.5694447  -3.8217726  -4.363857\n",
      "  -3.3190606  -4.8437204  -4.429827   -5.6168127  -4.726715   -4.145561\n",
      "  -3.0823011  -4.4427576  -3.6078324  -3.6268077  -4.1378336  -4.3074136\n",
      "  -2.6236057  -3.8604941  -3.9572964  -4.9046636  -4.4227242  -3.455923\n",
      "  -3.343761   -4.9336705  -3.3536885  -4.453596   -4.978049   -3.4922383\n",
      "  -4.8590746  -4.2497087  -3.660474   -4.9282765  -5.2105355  -3.343437\n",
      "  -4.7213583  -2.7546809  -4.83537    -4.6578345  -3.5321534  -3.9539142\n",
      "  -4.840178   -3.9561148  -4.188768   -3.627184   -4.9371886  -3.5157666\n",
      "  -3.0882459  -3.5910723  -3.865425   -4.5177855  -4.515183   -3.3484223\n",
      "  -3.829559   -5.2613215  -5.1620607  -3.7899635  -3.5172048  -3.7509546\n",
      "  -4.9598064  -5.410673   -5.3515835  -4.8023877  -3.1617699  -4.0191107\n",
      "  -5.274833   -4.162417   -5.0689483  -3.6452208  -4.999315   -3.0173957\n",
      "  -5.2839036  -2.7698052  -4.2652164  -3.5295515  -1.9586803  -3.5593042\n",
      "  -4.5392704  -4.198902   -3.451832   -4.439155   -4.069143   -4.6746635\n",
      "  -4.348761   -4.349989   -3.732306   -2.5539157  -2.7543445  -5.3964586\n",
      "  -4.966549   -4.2563725  -5.3618665  -3.5079093  -4.924878   -4.169794\n",
      "  -3.7143912  -4.0793624  -4.9388413  -3.6093442  -3.6827612  -4.6827044\n",
      "  -3.895004   -4.4849396  -4.7679033  -5.18464    -4.9054403  -4.474677\n",
      "  -3.648365   -3.873653   -4.5218787  -4.922207   -3.1892745  -5.1089125\n",
      "  -5.1977015  -3.4471786  -2.5032477  -3.4776087  -4.3932757  -4.4247994\n",
      "  -6.4121075  -5.1168275  -0.7439237  -3.4745579  -5.3263664  -3.445291\n",
      "  -4.511192   -4.3901334  -4.3851132  -4.962707   -3.10376    -3.6886523\n",
      "  -2.8355956  -4.8558407  -3.798644   -4.80442    -3.7858722  -4.4367137\n",
      "  -4.6962833  -4.0206804  -2.9535153  -4.1178784  -4.497902   -3.2294095\n",
      "  -3.8840156  -4.8017216  -3.529091   -4.4849114  -4.101436   -3.7029061\n",
      "  -3.432437   -4.54658    -3.8446631  -4.551917   -4.4859514  -3.7062964\n",
      "  -3.000028   -5.36515    -1.5114692  -2.310273   -5.0066543  -4.3336315\n",
      "  -3.4786837  -3.7656124  -4.659142   -3.282054   -2.6931548  -3.7861428\n",
      "  -4.97516    -5.6089287  -4.8335     -4.535442   -4.799144   -4.0301213\n",
      "  -4.226176   -4.4613237  -3.9608371  -3.9192379  -5.736954   -3.7851484\n",
      "  -4.047465   -4.8264694  -4.5077333  -3.9425244  -4.1217914  -4.599197\n",
      "  -6.0122533  -4.0754447  -4.2956376  -2.2489655  -5.1808968  -4.823484\n",
      "  -4.3364887  -4.4780865  -5.424476   -4.174988   -4.906351   -3.3856137\n",
      "  -5.397072   -4.499159   -4.488487   -4.406262   -4.150948   -3.8353965\n",
      "  -4.354631   -3.500947   -3.1988754  -4.580955   -2.9605677  -2.5039225\n",
      "  -3.758658   -3.0798078  -2.2385826  -4.781913   -4.758278   -4.1416364\n",
      "  -6.277321   -4.183494   -4.552279   -4.9153256  -4.1974354  -4.479329\n",
      "  -3.5405154  -4.4099507  -2.4953215  -4.371471   -4.7611184  -5.567642\n",
      "  -4.6676993  -5.0939617  -5.16512    -4.7394156  -4.63468    -4.1680717\n",
      "  -4.1526203  -5.5756464  -5.280142   -4.511057   -5.4403114  -4.8703876\n",
      "  -5.269234   -5.1677265  -5.2144732  -5.637162   -4.7572746  -5.3923073\n",
      "  -4.5629344  -5.2537127  -5.052318   -4.3706584  -4.884858   -5.273044\n",
      "  -3.7129855  -4.2868953  -4.4778705  -4.0448456  -4.116777   -4.217099\n",
      "  -2.697968   -4.6510363  -4.6650586  -3.8553364  -4.096387   -4.4959583\n",
      "  -4.7560334  -5.0493064  -4.882673   -4.82743    -4.426007   -5.747885\n",
      "  -2.6663213  -3.4640472  -1.9408106  -4.733864   -5.2431006  -3.463565\n",
      "  -4.0261297  -5.6852336  -3.3115892  -3.8816512  -4.399409   -4.3364654\n",
      "  -4.197384   -4.9937463  -3.2127612  -5.2798805  -6.0079517  -4.2685356\n",
      "  -4.1288867  -3.4794245  -4.3237166  -3.7144156  -3.6326647  -4.2641606\n",
      "  -3.5480576  -4.273504   -5.6779957  -3.5167425  -4.357852   -3.9261723\n",
      "  -4.5911756  -5.900132   -4.288694   -4.7544885 ]]\n"
     ]
    }
   ],
   "source": [
    "import numpy as np\n",
    "import tensorflow as tf\n",
    "\n",
    "# Load the TFLite model and allocate tensors.\n",
    "interpreter = tf.lite.Interpreter(model_path=\"lstm.tflite\")\n",
    "interpreter.allocate_tensors()\n",
    "\n",
    "# Get input and output tensors.\n",
    "input_details = interpreter.get_input_details()\n",
    "output_details = interpreter.get_output_details()\n",
    "\n",
    "# Test the model on random input data.\n",
    "input_shape = input_details[0]['shape']\n",
    "input_data = np.array(np.random.random_sample(input_shape), dtype=np.float32)\n",
    "# input_data = np.zeros((3, 50),dtype=np.float32)\n",
    "interpreter.set_tensor(input_details[0]['index'], input_data)\n",
    "\n",
    "interpreter.invoke()\n",
    "\n",
    "# The function `get_tensor()` returns a copy of the tensor data.\n",
    "# Use `tensor()` in order to get a pointer to the tensor.\n",
    "output_data = interpreter.get_tensor(output_details[0]['index'])\n",
    "print(output_data)"
   ]
  },
  {
   "cell_type": "code",
   "execution_count": 16,
   "id": "1c32322c",
   "metadata": {},
   "outputs": [
    {
     "data": {
      "text/plain": [
       "array([[[[0.37276003, 0.9727126 , 0.1590675 ]]]], dtype=float32)"
      ]
     },
     "execution_count": 16,
     "metadata": {},
     "output_type": "execute_result"
    }
   ],
   "source": [
    "input_data"
   ]
  },
  {
   "cell_type": "code",
   "execution_count": null,
   "id": "80faa284",
   "metadata": {},
   "outputs": [],
   "source": [
    "output_data.shape"
   ]
  },
  {
   "cell_type": "code",
   "execution_count": null,
   "id": "2eb3a504",
   "metadata": {},
   "outputs": [],
   "source": [
    "output_data"
   ]
  },
  {
   "cell_type": "code",
   "execution_count": null,
   "id": "80a71407",
   "metadata": {},
   "outputs": [],
   "source": [
    "input_data.shape"
   ]
  },
  {
   "cell_type": "code",
   "execution_count": null,
   "id": "2af5ee24",
   "metadata": {},
   "outputs": [],
   "source": [
    "import tensorflow as tf\n",
    "\n",
    "interpreter = tf.lite.Interpreter(model_path=\"model3.tflite\")\n",
    "interpreter.allocate_tensors()\n",
    "\n",
    "# Print input shape and type\n",
    "inputs = interpreter.get_input_details()\n",
    "print('{} input(s):'.format(len(inputs)))\n",
    "for i in range(0, len(inputs)):\n",
    "    print('{} {}'.format(inputs[i]['shape'], inputs[i]['dtype']))\n",
    "\n",
    "# Print output shape and type\n",
    "outputs = interpreter.get_output_details()\n",
    "print('\\n{} output(s):'.format(len(outputs)))\n",
    "for i in range(0, len(outputs)):\n",
    "    print('{} {}'.format(outputs[i]['shape'], outputs[i]['dtype']))"
   ]
  },
  {
   "cell_type": "code",
   "execution_count": 17,
   "id": "dccf6cf4",
   "metadata": {},
   "outputs": [
    {
     "name": "stdout",
     "output_type": "stream",
     "text": [
      "1 input(s):\n",
      "[1 1] <class 'numpy.float32'>\n",
      "\n",
      "1 output(s):\n",
      "[1 1] <class 'numpy.float32'>\n"
     ]
    }
   ],
   "source": [
    "import tensorflow as tf\n",
    "\n",
    "interpreter = tf.lite.Interpreter(model_path=\"linear.tflite\")\n",
    "interpreter.allocate_tensors()\n",
    "\n",
    "# Print input shape and type\n",
    "inputs = interpreter.get_input_details()\n",
    "print('{} input(s):'.format(len(inputs)))\n",
    "for i in range(0, len(inputs)):\n",
    "    print('{} {}'.format(inputs[i]['shape'], inputs[i]['dtype']))\n",
    "\n",
    "# Print output shape and type\n",
    "outputs = interpreter.get_output_details()\n",
    "print('\\n{} output(s):'.format(len(outputs)))\n",
    "for i in range(0, len(outputs)):\n",
    "    print('{} {}'.format(outputs[i]['shape'], outputs[i]['dtype']))"
   ]
  },
  {
   "cell_type": "code",
   "execution_count": null,
   "id": "de90e54b",
   "metadata": {},
   "outputs": [],
   "source": []
  },
  {
   "cell_type": "code",
   "execution_count": 19,
   "id": "e29de580",
   "metadata": {},
   "outputs": [
    {
     "name": "stderr",
     "output_type": "stream",
     "text": [
      "WARNING:absl:Found untraced functions such as lstm_cell_layer_call_fn, lstm_cell_layer_call_and_return_conditional_losses while saving (showing 2 of 2). These functions will not be directly callable after loading.\n"
     ]
    },
    {
     "name": "stdout",
     "output_type": "stream",
     "text": [
      "INFO:tensorflow:Assets written to: ourLstm.pb\\assets\n"
     ]
    },
    {
     "name": "stderr",
     "output_type": "stream",
     "text": [
      "INFO:tensorflow:Assets written to: ourLstm.pb\\assets\n"
     ]
    }
   ],
   "source": [
    "model.save(\"ourLstm.pb\")"
   ]
  },
  {
   "cell_type": "code",
   "execution_count": 20,
   "id": "342e5b80",
   "metadata": {},
   "outputs": [],
   "source": [
    "converter=tf.lite.TFLiteConverter.from_saved_model(r\"C:\\Users\\Arun8\\OneDrive\\Desktop\\PDIoT\\CW3-common-app\\pdiot-HAR-model\\ourLstm.pb\")"
   ]
  },
  {
   "cell_type": "code",
   "execution_count": 22,
   "id": "caaff415",
   "metadata": {},
   "outputs": [
    {
     "data": {
      "text/plain": [
       "92608"
      ]
     },
     "execution_count": 22,
     "metadata": {},
     "output_type": "execute_result"
    }
   ],
   "source": [
    "converter.optimizations = [tf.lite.Optimize.DEFAULT]\n",
    "# converter.experimental_new_converter=True\n",
    "converter.target_spec.supported_ops = [tf.lite.OpsSet.TFLITE_BUILTINS, tf.lite.OpsSet.SELECT_TF_OPS]\n",
    "tflite_model=converter.convert()\n",
    "open(\"lstm2.tflite\",\"wb\").write(tflite_model)"
   ]
  },
  {
   "cell_type": "code",
   "execution_count": 23,
   "id": "ddb01a6f",
   "metadata": {},
   "outputs": [
    {
     "data": {
      "text/plain": [
       "array([1, 1, 1, 3])"
      ]
     },
     "execution_count": 23,
     "metadata": {},
     "output_type": "execute_result"
    }
   ],
   "source": [
    "input_shape\n"
   ]
  },
  {
   "cell_type": "code",
   "execution_count": null,
   "id": "0299b735",
   "metadata": {},
   "outputs": [],
   "source": []
  }
 ],
 "metadata": {
  "kernelspec": {
   "display_name": "Python 3 (ipykernel)",
   "language": "python",
   "name": "python3"
  },
  "language_info": {
   "codemirror_mode": {
    "name": "ipython",
    "version": 3
   },
   "file_extension": ".py",
   "mimetype": "text/x-python",
   "name": "python",
   "nbconvert_exporter": "python",
   "pygments_lexer": "ipython3",
   "version": "3.7.16"
  }
 },
 "nbformat": 4,
 "nbformat_minor": 5
}
