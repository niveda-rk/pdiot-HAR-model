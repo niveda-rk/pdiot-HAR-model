{
 "cells": [
  {
   "cell_type": "code",
   "execution_count": 4,
   "id": "0226d292",
   "metadata": {},
   "outputs": [],
   "source": [
    "import tensorflow as tf\n",
    "import numpy as np\n",
    "from tensorflow import keras\n",
    "from tensorflow import lite\n",
    "\n"
   ]
  },
  {
   "cell_type": "code",
   "execution_count": 32,
   "id": "97cff24e",
   "metadata": {},
   "outputs": [],
   "source": [
    "model=keras.Sequential([keras.layers.Dense(units=1, input_shape=[1,50,3])])\n",
    "model.compile(optimizer='sgd',loss='mean_squared_error')"
   ]
  },
  {
   "cell_type": "code",
   "execution_count": 7,
   "id": "9da4d1fe",
   "metadata": {},
   "outputs": [],
   "source": [
    "xs=np.array([-1.0,0.0,1.0,2.0,3.0,4.0],dtype=float)\n",
    "ys=np.array([-3.0,-1.0,0.0,3.0,5.0,7.0],dtype=float)\n"
   ]
  },
  {
   "cell_type": "code",
   "execution_count": 41,
   "id": "2d73a7f2",
   "metadata": {},
   "outputs": [],
   "source": [
    "xs= np.array(np.random.random_sample([120,1,50,3]), dtype=np.float32)\n",
    "ys= np.array([0,1,2,3,4,5,6,7,8,9,10,11]*10)"
   ]
  },
  {
   "cell_type": "code",
   "execution_count": 44,
   "id": "75dd12a7",
   "metadata": {},
   "outputs": [
    {
     "data": {
      "text/plain": [
       "1"
      ]
     },
     "execution_count": 44,
     "metadata": {},
     "output_type": "execute_result"
    }
   ],
   "source": [
    "ys[13]"
   ]
  },
  {
   "cell_type": "code",
   "execution_count": 45,
   "id": "329438ef",
   "metadata": {},
   "outputs": [
    {
     "name": "stdout",
     "output_type": "stream",
     "text": [
      "Epoch 1/50\n",
      "4/4 [==============================] - 1s 6ms/step - loss: 42.9788\n",
      "Epoch 2/50\n",
      "4/4 [==============================] - 0s 4ms/step - loss: 35.2732\n",
      "Epoch 3/50\n",
      "4/4 [==============================] - 0s 4ms/step - loss: 29.5618\n",
      "Epoch 4/50\n",
      "4/4 [==============================] - 0s 2ms/step - loss: 25.3425\n",
      "Epoch 5/50\n",
      "4/4 [==============================] - 0s 4ms/step - loss: 22.1775\n",
      "Epoch 6/50\n",
      "4/4 [==============================] - 0s 4ms/step - loss: 19.8228\n",
      "Epoch 7/50\n",
      "4/4 [==============================] - 0s 4ms/step - loss: 17.9673\n",
      "Epoch 8/50\n",
      "4/4 [==============================] - 0s 4ms/step - loss: 16.6323\n",
      "Epoch 9/50\n",
      "4/4 [==============================] - 0s 5ms/step - loss: 15.6319\n",
      "Epoch 10/50\n",
      "4/4 [==============================] - 0s 3ms/step - loss: 14.9280\n",
      "Epoch 11/50\n",
      "4/4 [==============================] - 0s 5ms/step - loss: 14.3020\n",
      "Epoch 12/50\n",
      "4/4 [==============================] - 0s 3ms/step - loss: 13.9195\n",
      "Epoch 13/50\n",
      "4/4 [==============================] - 0s 5ms/step - loss: 13.5591\n",
      "Epoch 14/50\n",
      "4/4 [==============================] - 0s 5ms/step - loss: 13.3045\n",
      "Epoch 15/50\n",
      "4/4 [==============================] - 0s 4ms/step - loss: 13.1396\n",
      "Epoch 16/50\n",
      "4/4 [==============================] - 0s 4ms/step - loss: 13.0018\n",
      "Epoch 17/50\n",
      "4/4 [==============================] - 0s 5ms/step - loss: 12.9115\n",
      "Epoch 18/50\n",
      "4/4 [==============================] - 0s 3ms/step - loss: 12.7926\n",
      "Epoch 19/50\n",
      "4/4 [==============================] - 0s 4ms/step - loss: 12.7442\n",
      "Epoch 20/50\n",
      "4/4 [==============================] - 0s 6ms/step - loss: 12.6962\n",
      "Epoch 21/50\n",
      "4/4 [==============================] - 0s 5ms/step - loss: 12.6722\n",
      "Epoch 22/50\n",
      "4/4 [==============================] - 0s 4ms/step - loss: 12.6586\n",
      "Epoch 23/50\n",
      "4/4 [==============================] - 0s 5ms/step - loss: 12.6057\n",
      "Epoch 24/50\n",
      "4/4 [==============================] - 0s 5ms/step - loss: 12.6277\n",
      "Epoch 25/50\n",
      "4/4 [==============================] - 0s 5ms/step - loss: 12.5861\n",
      "Epoch 26/50\n",
      "4/4 [==============================] - 0s 4ms/step - loss: 12.5899\n",
      "Epoch 27/50\n",
      "4/4 [==============================] - 0s 5ms/step - loss: 12.5529\n",
      "Epoch 28/50\n",
      "4/4 [==============================] - 0s 4ms/step - loss: 12.5509\n",
      "Epoch 29/50\n",
      "4/4 [==============================] - 0s 5ms/step - loss: 12.5522\n",
      "Epoch 30/50\n",
      "4/4 [==============================] - 0s 4ms/step - loss: 12.5268\n",
      "Epoch 31/50\n",
      "4/4 [==============================] - 0s 6ms/step - loss: 12.5273\n",
      "Epoch 32/50\n",
      "4/4 [==============================] - 0s 5ms/step - loss: 12.5098\n",
      "Epoch 33/50\n",
      "4/4 [==============================] - 0s 4ms/step - loss: 12.5231\n",
      "Epoch 34/50\n",
      "4/4 [==============================] - 0s 5ms/step - loss: 12.5173\n",
      "Epoch 35/50\n",
      "4/4 [==============================] - 0s 4ms/step - loss: 12.5044\n",
      "Epoch 36/50\n",
      "4/4 [==============================] - 0s 3ms/step - loss: 12.5079\n",
      "Epoch 37/50\n",
      "4/4 [==============================] - 0s 5ms/step - loss: 12.4973\n",
      "Epoch 38/50\n",
      "4/4 [==============================] - 0s 5ms/step - loss: 12.4993\n",
      "Epoch 39/50\n",
      "4/4 [==============================] - 0s 6ms/step - loss: 12.4796\n",
      "Epoch 40/50\n",
      "4/4 [==============================] - 0s 5ms/step - loss: 12.4933\n",
      "Epoch 41/50\n",
      "4/4 [==============================] - 0s 4ms/step - loss: 12.4716\n",
      "Epoch 42/50\n",
      "4/4 [==============================] - 0s 4ms/step - loss: 12.4633\n",
      "Epoch 43/50\n",
      "4/4 [==============================] - 0s 4ms/step - loss: 12.4565\n",
      "Epoch 44/50\n",
      "4/4 [==============================] - 0s 3ms/step - loss: 12.4628\n",
      "Epoch 45/50\n",
      "4/4 [==============================] - 0s 5ms/step - loss: 12.4470\n",
      "Epoch 46/50\n",
      "4/4 [==============================] - 0s 3ms/step - loss: 12.4475\n",
      "Epoch 47/50\n",
      "4/4 [==============================] - 0s 2ms/step - loss: 12.4168\n",
      "Epoch 48/50\n",
      "4/4 [==============================] - 0s 4ms/step - loss: 12.4429\n",
      "Epoch 49/50\n",
      "4/4 [==============================] - 0s 2ms/step - loss: 12.4308\n",
      "Epoch 50/50\n",
      "4/4 [==============================] - 0s 4ms/step - loss: 12.4398\n"
     ]
    },
    {
     "data": {
      "text/plain": [
       "<keras.callbacks.History at 0x18aa9995448>"
      ]
     },
     "execution_count": 45,
     "metadata": {},
     "output_type": "execute_result"
    }
   ],
   "source": [
    "model.fit(xs,ys,epochs=50)\n"
   ]
  },
  {
   "cell_type": "code",
   "execution_count": 46,
   "id": "e0e91891",
   "metadata": {},
   "outputs": [
    {
     "name": "stdout",
     "output_type": "stream",
     "text": [
      "WARNING:tensorflow:Model was constructed with shape (None, 1, 50, 3) for input KerasTensor(type_spec=TensorSpec(shape=(None, 1, 50, 3), dtype=tf.float32, name='dense_1_input'), name='dense_1_input', description=\"created by layer 'dense_1_input'\"), but it was called on an input with incompatible shape (None,).\n"
     ]
    },
    {
     "name": "stderr",
     "output_type": "stream",
     "text": [
      "WARNING:tensorflow:Model was constructed with shape (None, 1, 50, 3) for input KerasTensor(type_spec=TensorSpec(shape=(None, 1, 50, 3), dtype=tf.float32, name='dense_1_input'), name='dense_1_input', description=\"created by layer 'dense_1_input'\"), but it was called on an input with incompatible shape (None,).\n"
     ]
    },
    {
     "ename": "ValueError",
     "evalue": "in user code:\n\n    File \"C:\\Users\\Arun8\\miniconda3\\envs\\pdiot\\lib\\site-packages\\keras\\engine\\training.py\", line 2041, in predict_function  *\n        return step_function(self, iterator)\n    File \"C:\\Users\\Arun8\\miniconda3\\envs\\pdiot\\lib\\site-packages\\keras\\engine\\training.py\", line 2027, in step_function  **\n        outputs = model.distribute_strategy.run(run_step, args=(data,))\n    File \"C:\\Users\\Arun8\\miniconda3\\envs\\pdiot\\lib\\site-packages\\keras\\engine\\training.py\", line 2015, in run_step  **\n        outputs = model.predict_step(data)\n    File \"C:\\Users\\Arun8\\miniconda3\\envs\\pdiot\\lib\\site-packages\\keras\\engine\\training.py\", line 1983, in predict_step\n        return self(x, training=False)\n    File \"C:\\Users\\Arun8\\miniconda3\\envs\\pdiot\\lib\\site-packages\\keras\\utils\\traceback_utils.py\", line 70, in error_handler\n        raise e.with_traceback(filtered_tb) from None\n    File \"C:\\Users\\Arun8\\miniconda3\\envs\\pdiot\\lib\\site-packages\\keras\\engine\\input_spec.py\", line 251, in assert_input_compatibility\n        f'Input {input_index} of layer \"{layer_name}\" '\n\n    ValueError: Exception encountered when calling layer \"sequential_1\" \"                 f\"(type Sequential).\n    \n    Input 0 of layer \"dense_1\" is incompatible with the layer: expected min_ndim=2, found ndim=1. Full shape received: (None,)\n    \n    Call arguments received by layer \"sequential_1\" \"                 f\"(type Sequential):\n      • inputs=tf.Tensor(shape=(None,), dtype=float32)\n      • training=False\n      • mask=None\n",
     "output_type": "error",
     "traceback": [
      "\u001b[1;31m---------------------------------------------------------------------------\u001b[0m",
      "\u001b[1;31mValueError\u001b[0m                                Traceback (most recent call last)",
      "\u001b[1;32m~\\AppData\\Local\\Temp\\ipykernel_11272\\1880244302.py\u001b[0m in \u001b[0;36m<module>\u001b[1;34m\u001b[0m\n\u001b[1;32m----> 1\u001b[1;33m \u001b[0mmodel\u001b[0m\u001b[1;33m.\u001b[0m\u001b[0mpredict\u001b[0m\u001b[1;33m(\u001b[0m\u001b[1;33m[\u001b[0m\u001b[1;36m10.0\u001b[0m\u001b[1;33m]\u001b[0m\u001b[1;33m)\u001b[0m\u001b[1;33m\u001b[0m\u001b[1;33m\u001b[0m\u001b[0m\n\u001b[0m",
      "\u001b[1;32m~\\miniconda3\\envs\\pdiot\\lib\\site-packages\\keras\\utils\\traceback_utils.py\u001b[0m in \u001b[0;36merror_handler\u001b[1;34m(*args, **kwargs)\u001b[0m\n\u001b[0;32m     68\u001b[0m             \u001b[1;31m# To get the full stack trace, call:\u001b[0m\u001b[1;33m\u001b[0m\u001b[1;33m\u001b[0m\u001b[1;33m\u001b[0m\u001b[0m\n\u001b[0;32m     69\u001b[0m             \u001b[1;31m# `tf.debugging.disable_traceback_filtering()`\u001b[0m\u001b[1;33m\u001b[0m\u001b[1;33m\u001b[0m\u001b[1;33m\u001b[0m\u001b[0m\n\u001b[1;32m---> 70\u001b[1;33m             \u001b[1;32mraise\u001b[0m \u001b[0me\u001b[0m\u001b[1;33m.\u001b[0m\u001b[0mwith_traceback\u001b[0m\u001b[1;33m(\u001b[0m\u001b[0mfiltered_tb\u001b[0m\u001b[1;33m)\u001b[0m \u001b[1;32mfrom\u001b[0m \u001b[1;32mNone\u001b[0m\u001b[1;33m\u001b[0m\u001b[1;33m\u001b[0m\u001b[0m\n\u001b[0m\u001b[0;32m     71\u001b[0m         \u001b[1;32mfinally\u001b[0m\u001b[1;33m:\u001b[0m\u001b[1;33m\u001b[0m\u001b[1;33m\u001b[0m\u001b[0m\n\u001b[0;32m     72\u001b[0m             \u001b[1;32mdel\u001b[0m \u001b[0mfiltered_tb\u001b[0m\u001b[1;33m\u001b[0m\u001b[1;33m\u001b[0m\u001b[0m\n",
      "\u001b[1;32m~\\miniconda3\\envs\\pdiot\\lib\\site-packages\\keras\\engine\\training.py\u001b[0m in \u001b[0;36mtf__predict_function\u001b[1;34m(iterator)\u001b[0m\n\u001b[0;32m     13\u001b[0m                 \u001b[1;32mtry\u001b[0m\u001b[1;33m:\u001b[0m\u001b[1;33m\u001b[0m\u001b[1;33m\u001b[0m\u001b[0m\n\u001b[0;32m     14\u001b[0m                     \u001b[0mdo_return\u001b[0m \u001b[1;33m=\u001b[0m \u001b[1;32mTrue\u001b[0m\u001b[1;33m\u001b[0m\u001b[1;33m\u001b[0m\u001b[0m\n\u001b[1;32m---> 15\u001b[1;33m                     \u001b[0mretval_\u001b[0m \u001b[1;33m=\u001b[0m \u001b[0mag__\u001b[0m\u001b[1;33m.\u001b[0m\u001b[0mconverted_call\u001b[0m\u001b[1;33m(\u001b[0m\u001b[0mag__\u001b[0m\u001b[1;33m.\u001b[0m\u001b[0mld\u001b[0m\u001b[1;33m(\u001b[0m\u001b[0mstep_function\u001b[0m\u001b[1;33m)\u001b[0m\u001b[1;33m,\u001b[0m \u001b[1;33m(\u001b[0m\u001b[0mag__\u001b[0m\u001b[1;33m.\u001b[0m\u001b[0mld\u001b[0m\u001b[1;33m(\u001b[0m\u001b[0mself\u001b[0m\u001b[1;33m)\u001b[0m\u001b[1;33m,\u001b[0m \u001b[0mag__\u001b[0m\u001b[1;33m.\u001b[0m\u001b[0mld\u001b[0m\u001b[1;33m(\u001b[0m\u001b[0miterator\u001b[0m\u001b[1;33m)\u001b[0m\u001b[1;33m)\u001b[0m\u001b[1;33m,\u001b[0m \u001b[1;32mNone\u001b[0m\u001b[1;33m,\u001b[0m \u001b[0mfscope\u001b[0m\u001b[1;33m)\u001b[0m\u001b[1;33m\u001b[0m\u001b[1;33m\u001b[0m\u001b[0m\n\u001b[0m\u001b[0;32m     16\u001b[0m                 \u001b[1;32mexcept\u001b[0m\u001b[1;33m:\u001b[0m\u001b[1;33m\u001b[0m\u001b[1;33m\u001b[0m\u001b[0m\n\u001b[0;32m     17\u001b[0m                     \u001b[0mdo_return\u001b[0m \u001b[1;33m=\u001b[0m \u001b[1;32mFalse\u001b[0m\u001b[1;33m\u001b[0m\u001b[1;33m\u001b[0m\u001b[0m\n",
      "\u001b[1;31mValueError\u001b[0m: in user code:\n\n    File \"C:\\Users\\Arun8\\miniconda3\\envs\\pdiot\\lib\\site-packages\\keras\\engine\\training.py\", line 2041, in predict_function  *\n        return step_function(self, iterator)\n    File \"C:\\Users\\Arun8\\miniconda3\\envs\\pdiot\\lib\\site-packages\\keras\\engine\\training.py\", line 2027, in step_function  **\n        outputs = model.distribute_strategy.run(run_step, args=(data,))\n    File \"C:\\Users\\Arun8\\miniconda3\\envs\\pdiot\\lib\\site-packages\\keras\\engine\\training.py\", line 2015, in run_step  **\n        outputs = model.predict_step(data)\n    File \"C:\\Users\\Arun8\\miniconda3\\envs\\pdiot\\lib\\site-packages\\keras\\engine\\training.py\", line 1983, in predict_step\n        return self(x, training=False)\n    File \"C:\\Users\\Arun8\\miniconda3\\envs\\pdiot\\lib\\site-packages\\keras\\utils\\traceback_utils.py\", line 70, in error_handler\n        raise e.with_traceback(filtered_tb) from None\n    File \"C:\\Users\\Arun8\\miniconda3\\envs\\pdiot\\lib\\site-packages\\keras\\engine\\input_spec.py\", line 251, in assert_input_compatibility\n        f'Input {input_index} of layer \"{layer_name}\" '\n\n    ValueError: Exception encountered when calling layer \"sequential_1\" \"                 f\"(type Sequential).\n    \n    Input 0 of layer \"dense_1\" is incompatible with the layer: expected min_ndim=2, found ndim=1. Full shape received: (None,)\n    \n    Call arguments received by layer \"sequential_1\" \"                 f\"(type Sequential):\n      • inputs=tf.Tensor(shape=(None,), dtype=float32)\n      • training=False\n      • mask=None\n"
     ]
    }
   ],
   "source": [
    "model.predict([10.0])"
   ]
  },
  {
   "cell_type": "code",
   "execution_count": 29,
   "id": "b01118a1",
   "metadata": {},
   "outputs": [
    {
     "name": "stdout",
     "output_type": "stream",
     "text": [
      "INFO:tensorflow:Assets written to: linear.pb\\assets\n"
     ]
    },
    {
     "name": "stderr",
     "output_type": "stream",
     "text": [
      "INFO:tensorflow:Assets written to: linear.pb\\assets\n"
     ]
    }
   ],
   "source": [
    "keras_file=\"linear.h5\"\n",
    "# keras.models.save_model(model,keras_file)\n",
    "model.save(\"linear.pb\")"
   ]
  },
  {
   "cell_type": "code",
   "execution_count": 30,
   "id": "96a02c75",
   "metadata": {},
   "outputs": [],
   "source": [
    "converter=tf.lite.TFLiteConverter.from_saved_model(r\"C:\\Users\\Arun8\\OneDrive\\Desktop\\PDIoT\\CW3-common-app\\pdiot-HAR-model\\linear.pb\")"
   ]
  },
  {
   "cell_type": "code",
   "execution_count": 31,
   "id": "3647a123",
   "metadata": {},
   "outputs": [
    {
     "data": {
      "text/plain": [
       "1080"
      ]
     },
     "execution_count": 31,
     "metadata": {},
     "output_type": "execute_result"
    }
   ],
   "source": [
    "\n",
    "tflite_model=converter.convert()\n",
    "open(\"linear2.tflite\",\"wb\").write(tflite_model)"
   ]
  },
  {
   "cell_type": "code",
   "execution_count": 25,
   "id": "7946f7a1",
   "metadata": {},
   "outputs": [
    {
     "name": "stdout",
     "output_type": "stream",
     "text": [
      "INFO:tensorflow:Assets written to: C:\\Users\\Arun8\\AppData\\Local\\Temp\\tmpwg3apvft\\assets\n"
     ]
    }
   ],
   "source": [
    "converter = tf.lite.TFLiteConverter.from_keras_model(model)\n",
    "tflite_model = converter.convert()\n"
   ]
  },
  {
   "cell_type": "code",
   "execution_count": 26,
   "id": "cfc0e797",
   "metadata": {},
   "outputs": [],
   "source": [
    "with open('linear.tflite', 'wb') as f:\n",
    "  f.write(tflite_model)"
   ]
  },
  {
   "cell_type": "code",
   "execution_count": null,
   "id": "54f12fec",
   "metadata": {},
   "outputs": [],
   "source": []
  },
  {
   "cell_type": "code",
   "execution_count": null,
   "id": "7673543a",
   "metadata": {},
   "outputs": [],
   "source": []
  },
  {
   "cell_type": "code",
   "execution_count": null,
   "id": "18464f66",
   "metadata": {},
   "outputs": [],
   "source": []
  },
  {
   "cell_type": "code",
   "execution_count": null,
   "id": "0d084580",
   "metadata": {},
   "outputs": [],
   "source": []
  },
  {
   "cell_type": "code",
   "execution_count": null,
   "id": "4368c820",
   "metadata": {},
   "outputs": [],
   "source": []
  },
  {
   "cell_type": "code",
   "execution_count": null,
   "id": "638b55d4",
   "metadata": {},
   "outputs": [],
   "source": []
  }
 ],
 "metadata": {
  "kernelspec": {
   "display_name": "Python 3 (ipykernel)",
   "language": "python",
   "name": "python3"
  },
  "language_info": {
   "codemirror_mode": {
    "name": "ipython",
    "version": 3
   },
   "file_extension": ".py",
   "mimetype": "text/x-python",
   "name": "python",
   "nbconvert_exporter": "python",
   "pygments_lexer": "ipython3",
   "version": "3.7.16"
  }
 },
 "nbformat": 4,
 "nbformat_minor": 5
}
