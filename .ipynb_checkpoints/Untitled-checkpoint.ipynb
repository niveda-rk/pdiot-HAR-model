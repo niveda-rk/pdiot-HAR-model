{
 "cells": [
  {
   "cell_type": "code",
   "execution_count": 1,
   "id": "c6d093f1",
   "metadata": {},
   "outputs": [],
   "source": [
    "# import pandas as pd\n",
    "# import numpy as np\n",
    "# import tensorflow as tf\n",
    "# from sklearn.preprocessing import LabelEncoder\n",
    "# from keras.utils import to_categorical\n",
    "\n",
    "# df = pd.read_csv('iris.data')\n",
    "\n",
    "# X = df.iloc[:, :4].values\n",
    "# y = df.iloc[:, 4].values\n",
    "\n",
    "# le = LabelEncoder()\n",
    "\n",
    "# y = le.fit_transform(y)\n",
    "# y = to_categorical(y)\n",
    "\n",
    "\n",
    "# from tensorflow.keras.layers import Dense\n",
    "# from tensorflow.keras.models import Sequential\n",
    "\n",
    "# model = Sequential()\n",
    "\n",
    "# model.add(Dense(64, activation='relu', input_shape=[4]))\n",
    "# model.add(Dense(64))\n",
    "# model.add(Dense(3, activation='softmax'))\n",
    "\n",
    "# model.compile(optimizer='sgd', loss='categorical_crossentropy',\n",
    "#               metrics=['acc'])\n",
    "\n",
    "\n",
    "# model.fit(X, y, epochs=200)\n",
    "\n",
    "\n",
    "# from tensorflow import lite\n",
    "# converter = lite.TFLiteConverter.from_keras_model(model)\n",
    "\n",
    "# tfmodel = converter.convert()\n",
    "\n",
    "# open('iris.tflite', 'wb').write(tfmodel)\n"
   ]
  },
  {
   "cell_type": "code",
   "execution_count": 2,
   "id": "4d182f19",
   "metadata": {},
   "outputs": [],
   "source": [
    "import tensorflow as tf\n",
    "import numpy as np\n",
    "from tensorflow import keras\n",
    "from tensorflow import lite\n"
   ]
  },
  {
   "cell_type": "code",
   "execution_count": 3,
   "id": "72d04159",
   "metadata": {},
   "outputs": [],
   "source": [
    "# model=keras.Sequential([keras.layers.Dense(units=1, input_shape=[50,3])])\n",
    "# model.compile(optimizer='sgd',loss='mean_squared_error')"
   ]
  },
  {
   "cell_type": "code",
   "execution_count": 4,
   "id": "aca1e7f9",
   "metadata": {},
   "outputs": [],
   "source": [
    "xs= np.array(np.random.random_sample([150]), dtype=np.float32)\n",
    "ys= np.array([0,1,2,3,4,5,6,7,8,9,10,11],dtype=np.int32)"
   ]
  },
  {
   "cell_type": "code",
   "execution_count": 5,
   "id": "9a47e3ed",
   "metadata": {},
   "outputs": [],
   "source": [
    "model.fit(xs,ys,epochs=50)"
   ]
  },
  {
   "cell_type": "code",
   "execution_count": 6,
   "id": "9c951323",
   "metadata": {},
   "outputs": [
    {
     "ename": "NameError",
     "evalue": "name 'model' is not defined",
     "output_type": "error",
     "traceback": [
      "\u001b[1;31m---------------------------------------------------------------------------\u001b[0m",
      "\u001b[1;31mNameError\u001b[0m                                 Traceback (most recent call last)",
      "\u001b[1;32m~\\AppData\\Local\\Temp\\ipykernel_32500\\4131183815.py\u001b[0m in \u001b[0;36m<module>\u001b[1;34m\u001b[0m\n\u001b[1;32m----> 1\u001b[1;33m \u001b[0mk\u001b[0m\u001b[1;33m=\u001b[0m\u001b[0mmodel\u001b[0m\u001b[1;33m.\u001b[0m\u001b[0mpredict\u001b[0m\u001b[1;33m(\u001b[0m\u001b[0mnp\u001b[0m\u001b[1;33m.\u001b[0m\u001b[0mrandom\u001b[0m\u001b[1;33m.\u001b[0m\u001b[0mrandom_sample\u001b[0m\u001b[1;33m(\u001b[0m\u001b[1;33m[\u001b[0m\u001b[1;36m1\u001b[0m\u001b[1;33m,\u001b[0m\u001b[1;36m50\u001b[0m\u001b[1;33m,\u001b[0m\u001b[1;36m3\u001b[0m\u001b[1;33m]\u001b[0m\u001b[1;33m)\u001b[0m\u001b[1;33m,\u001b[0m\u001b[1;33m)\u001b[0m\u001b[1;33m\u001b[0m\u001b[1;33m\u001b[0m\u001b[0m\n\u001b[0m",
      "\u001b[1;31mNameError\u001b[0m: name 'model' is not defined"
     ]
    }
   ],
   "source": [
    "k=model.predict(np.random.random_sample([1,50,3]),)"
   ]
  },
  {
   "cell_type": "code",
   "execution_count": null,
   "id": "d65a4096",
   "metadata": {},
   "outputs": [],
   "source": [
    "ys\n"
   ]
  },
  {
   "cell_type": "code",
   "execution_count": null,
   "id": "457446b1",
   "metadata": {},
   "outputs": [],
   "source": []
  },
  {
   "cell_type": "code",
   "execution_count": null,
   "id": "6bc96159",
   "metadata": {},
   "outputs": [],
   "source": [
    "k.shape\n"
   ]
  },
  {
   "cell_type": "code",
   "execution_count": 7,
   "id": "567379e9",
   "metadata": {},
   "outputs": [],
   "source": [
    "inputs = tf.keras.Input(shape=(50,3))"
   ]
  },
  {
   "cell_type": "code",
   "execution_count": null,
   "id": "daaf3d26",
   "metadata": {},
   "outputs": [],
   "source": []
  }
 ],
 "metadata": {
  "kernelspec": {
   "display_name": "Python 3 (ipykernel)",
   "language": "python",
   "name": "python3"
  },
  "language_info": {
   "codemirror_mode": {
    "name": "ipython",
    "version": 3
   },
   "file_extension": ".py",
   "mimetype": "text/x-python",
   "name": "python",
   "nbconvert_exporter": "python",
   "pygments_lexer": "ipython3",
   "version": "3.7.16"
  }
 },
 "nbformat": 4,
 "nbformat_minor": 5
}
