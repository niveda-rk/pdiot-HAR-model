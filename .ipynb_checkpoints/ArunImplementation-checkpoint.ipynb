{
 "cells": [
  {
   "cell_type": "code",
   "execution_count": 4,
   "id": "d2b40945",
   "metadata": {},
   "outputs": [],
   "source": [
    "import tensorflow as tf\n",
    "import numpy as np\n",
    "from tensorflow import keras\n",
    "from tensorflow import lite\n",
    "\n"
   ]
  },
  {
   "cell_type": "code",
   "execution_count": 6,
   "id": "b5068f2f",
   "metadata": {},
   "outputs": [],
   "source": [
    "model=keras.Sequential([keras.layers.Dense(units=1, input_shape=[1,50,3])])\n",
    "model.compile(optimizer='sgd',loss='mean_squared_error')"
   ]
  },
  {
   "cell_type": "code",
   "execution_count": 7,
   "id": "f3d58ae6",
   "metadata": {},
   "outputs": [],
   "source": [
    "xs=np.array([-1.0,0.0,1.0,2.0,3.0,4.0],dtype=float)\n",
    "ys=np.array([-3.0,-1.0,0.0,3.0,5.0,7.0],dtype=float)\n"
   ]
  },
  {
   "cell_type": "code",
   "execution_count": 8,
   "id": "7a82c94c",
   "metadata": {},
   "outputs": [
    {
     "name": "stdout",
     "output_type": "stream",
     "text": [
      "Epoch 1/50\n",
      "1/1 [==============================] - 0s 475ms/step - loss: 51.1719\n",
      "Epoch 2/50\n",
      "1/1 [==============================] - 0s 10ms/step - loss: 40.7771\n",
      "Epoch 3/50\n",
      "1/1 [==============================] - 0s 0s/step - loss: 32.5889\n",
      "Epoch 4/50\n",
      "1/1 [==============================] - 0s 0s/step - loss: 26.1371\n",
      "Epoch 5/50\n",
      "1/1 [==============================] - 0s 2ms/step - loss: 21.0514\n",
      "Epoch 6/50\n",
      "1/1 [==============================] - 0s 8ms/step - loss: 17.0409\n",
      "Epoch 7/50\n",
      "1/1 [==============================] - 0s 6ms/step - loss: 13.8763\n",
      "Epoch 8/50\n",
      "1/1 [==============================] - 0s 8ms/step - loss: 11.3775\n",
      "Epoch 9/50\n",
      "1/1 [==============================] - 0s 7ms/step - loss: 9.4028\n",
      "Epoch 10/50\n",
      "1/1 [==============================] - 0s 0s/step - loss: 7.8405\n",
      "Epoch 11/50\n",
      "1/1 [==============================] - 0s 0s/step - loss: 6.6028\n",
      "Epoch 12/50\n",
      "1/1 [==============================] - 0s 6ms/step - loss: 5.6208\n",
      "Epoch 13/50\n",
      "1/1 [==============================] - 0s 0s/step - loss: 4.8400\n",
      "Epoch 14/50\n",
      "1/1 [==============================] - 0s 2ms/step - loss: 4.2177\n",
      "Epoch 15/50\n",
      "1/1 [==============================] - 0s 0s/step - loss: 3.7203\n",
      "Epoch 16/50\n",
      "1/1 [==============================] - 0s 3ms/step - loss: 3.3213\n",
      "Epoch 17/50\n",
      "1/1 [==============================] - 0s 3ms/step - loss: 2.9999\n",
      "Epoch 18/50\n",
      "1/1 [==============================] - 0s 7ms/step - loss: 2.7397\n",
      "Epoch 19/50\n",
      "1/1 [==============================] - 0s 10ms/step - loss: 2.5278\n",
      "Epoch 20/50\n",
      "1/1 [==============================] - 0s 10ms/step - loss: 2.3540\n",
      "Epoch 21/50\n",
      "1/1 [==============================] - 0s 8ms/step - loss: 2.2104\n",
      "Epoch 22/50\n",
      "1/1 [==============================] - 0s 0s/step - loss: 2.0906\n",
      "Epoch 23/50\n",
      "1/1 [==============================] - 0s 11ms/step - loss: 1.9898\n",
      "Epoch 24/50\n",
      "1/1 [==============================] - 0s 0s/step - loss: 1.9040\n",
      "Epoch 25/50\n",
      "1/1 [==============================] - 0s 0s/step - loss: 1.8301\n",
      "Epoch 26/50\n",
      "1/1 [==============================] - 0s 4ms/step - loss: 1.7657\n",
      "Epoch 27/50\n",
      "1/1 [==============================] - 0s 9ms/step - loss: 1.7090\n",
      "Epoch 28/50\n",
      "1/1 [==============================] - 0s 7ms/step - loss: 1.6584\n",
      "Epoch 29/50\n",
      "1/1 [==============================] - 0s 5ms/step - loss: 1.6127\n",
      "Epoch 30/50\n",
      "1/1 [==============================] - 0s 0s/step - loss: 1.5711\n",
      "Epoch 31/50\n",
      "1/1 [==============================] - 0s 10ms/step - loss: 1.5327\n",
      "Epoch 32/50\n",
      "1/1 [==============================] - 0s 11ms/step - loss: 1.4970\n",
      "Epoch 33/50\n",
      "1/1 [==============================] - 0s 9ms/step - loss: 1.4636\n",
      "Epoch 34/50\n",
      "1/1 [==============================] - 0s 10ms/step - loss: 1.4320\n",
      "Epoch 35/50\n",
      "1/1 [==============================] - 0s 0s/step - loss: 1.4019\n",
      "Epoch 36/50\n",
      "1/1 [==============================] - 0s 0s/step - loss: 1.3733\n",
      "Epoch 37/50\n",
      "1/1 [==============================] - 0s 2ms/step - loss: 1.3457\n",
      "Epoch 38/50\n",
      "1/1 [==============================] - 0s 5ms/step - loss: 1.3192\n",
      "Epoch 39/50\n",
      "1/1 [==============================] - 0s 5ms/step - loss: 1.2936\n",
      "Epoch 40/50\n",
      "1/1 [==============================] - 0s 6ms/step - loss: 1.2688\n",
      "Epoch 41/50\n",
      "1/1 [==============================] - 0s 10ms/step - loss: 1.2448\n",
      "Epoch 42/50\n",
      "1/1 [==============================] - 0s 10ms/step - loss: 1.2214\n",
      "Epoch 43/50\n",
      "1/1 [==============================] - 0s 10ms/step - loss: 1.1986\n",
      "Epoch 44/50\n",
      "1/1 [==============================] - 0s 0s/step - loss: 1.1764\n",
      "Epoch 45/50\n",
      "1/1 [==============================] - 0s 0s/step - loss: 1.1547\n",
      "Epoch 46/50\n",
      "1/1 [==============================] - 0s 8ms/step - loss: 1.1335\n",
      "Epoch 47/50\n",
      "1/1 [==============================] - 0s 6ms/step - loss: 1.1129\n",
      "Epoch 48/50\n",
      "1/1 [==============================] - 0s 4ms/step - loss: 1.0927\n",
      "Epoch 49/50\n",
      "1/1 [==============================] - 0s 0s/step - loss: 1.0729\n",
      "Epoch 50/50\n",
      "1/1 [==============================] - 0s 0s/step - loss: 1.0536\n"
     ]
    },
    {
     "data": {
      "text/plain": [
       "<keras.callbacks.History at 0x18aa93fcf88>"
      ]
     },
     "execution_count": 8,
     "metadata": {},
     "output_type": "execute_result"
    }
   ],
   "source": [
    "model.fit(xs,ys,epochs=50)\n"
   ]
  },
  {
   "cell_type": "code",
   "execution_count": 9,
   "id": "7a046a6e",
   "metadata": {},
   "outputs": [
    {
     "name": "stdout",
     "output_type": "stream",
     "text": [
      "1/1 [==============================] - 0s 144ms/step\n"
     ]
    },
    {
     "data": {
      "text/plain": [
       "array([[16.211155]], dtype=float32)"
      ]
     },
     "execution_count": 9,
     "metadata": {},
     "output_type": "execute_result"
    }
   ],
   "source": [
    "model.predict([10.0])"
   ]
  },
  {
   "cell_type": "code",
   "execution_count": 29,
   "id": "5a0f3946",
   "metadata": {},
   "outputs": [
    {
     "name": "stdout",
     "output_type": "stream",
     "text": [
      "INFO:tensorflow:Assets written to: linear.pb\\assets\n"
     ]
    },
    {
     "name": "stderr",
     "output_type": "stream",
     "text": [
      "INFO:tensorflow:Assets written to: linear.pb\\assets\n"
     ]
    }
   ],
   "source": [
    "keras_file=\"linear.h5\"\n",
    "# keras.models.save_model(model,keras_file)\n",
    "model.save(\"linear.pb\")"
   ]
  },
  {
   "cell_type": "code",
   "execution_count": 30,
   "id": "cb3cb0e1",
   "metadata": {},
   "outputs": [],
   "source": [
    "converter=tf.lite.TFLiteConverter.from_saved_model(r\"C:\\Users\\Arun8\\OneDrive\\Desktop\\PDIoT\\CW3-common-app\\pdiot-HAR-model\\linear.pb\")"
   ]
  },
  {
   "cell_type": "code",
   "execution_count": 31,
   "id": "7c1f16cf",
   "metadata": {},
   "outputs": [
    {
     "data": {
      "text/plain": [
       "1080"
      ]
     },
     "execution_count": 31,
     "metadata": {},
     "output_type": "execute_result"
    }
   ],
   "source": [
    "\n",
    "tflite_model=converter.convert()\n",
    "open(\"linear2.tflite\",\"wb\").write(tflite_model)"
   ]
  },
  {
   "cell_type": "code",
   "execution_count": 25,
   "id": "b33fa7ff",
   "metadata": {},
   "outputs": [
    {
     "name": "stdout",
     "output_type": "stream",
     "text": [
      "INFO:tensorflow:Assets written to: C:\\Users\\Arun8\\AppData\\Local\\Temp\\tmpwg3apvft\\assets\n"
     ]
    }
   ],
   "source": [
    "converter = tf.lite.TFLiteConverter.from_keras_model(model)\n",
    "tflite_model = converter.convert()\n"
   ]
  },
  {
   "cell_type": "code",
   "execution_count": 26,
   "id": "7f38b2ec",
   "metadata": {},
   "outputs": [],
   "source": [
    "with open('linear.tflite', 'wb') as f:\n",
    "  f.write(tflite_model)"
   ]
  },
  {
   "cell_type": "code",
   "execution_count": null,
   "id": "0de251ab",
   "metadata": {},
   "outputs": [],
   "source": []
  }
 ],
 "metadata": {
  "kernelspec": {
   "display_name": "Python 3 (ipykernel)",
   "language": "python",
   "name": "python3"
  },
  "language_info": {
   "codemirror_mode": {
    "name": "ipython",
    "version": 3
   },
   "file_extension": ".py",
   "mimetype": "text/x-python",
   "name": "python",
   "nbconvert_exporter": "python",
   "pygments_lexer": "ipython3",
   "version": "3.7.16"
  }
 },
 "nbformat": 4,
 "nbformat_minor": 5
}
