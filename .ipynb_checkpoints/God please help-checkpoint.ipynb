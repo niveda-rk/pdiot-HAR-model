{
 "cells": [
  {
   "cell_type": "code",
   "execution_count": 1,
   "id": "778ea8ee",
   "metadata": {},
   "outputs": [],
   "source": [
    "# get dataset\n",
    "# filter just breathing normal\n",
    "# get all students\n",
    "# iterate through each student\n",
    "#       leave one student for test\n",
    "#.      rest of the student for train\n",
    "#.      train model\n",
    "#       graph/save acc"
   ]
  },
  {
   "cell_type": "markdown",
   "id": "b8dcbb30",
   "metadata": {},
   "source": [
    "# Task 1"
   ]
  },
  {
   "cell_type": "code",
   "execution_count": 2,
   "id": "c3227a49",
   "metadata": {},
   "outputs": [
    {
     "name": "stderr",
     "output_type": "stream",
     "text": [
      "2024-01-06 06:18:04.666597: I tensorflow/core/util/port.cc:111] oneDNN custom operations are on. You may see slightly different numerical results due to floating-point round-off errors from different computation orders. To turn them off, set the environment variable `TF_ENABLE_ONEDNN_OPTS=0`.\n",
      "2024-01-06 06:18:04.669221: I tensorflow/tsl/cuda/cudart_stub.cc:28] Could not find cuda drivers on your machine, GPU will not be used.\n",
      "2024-01-06 06:18:04.715619: E tensorflow/compiler/xla/stream_executor/cuda/cuda_dnn.cc:9342] Unable to register cuDNN factory: Attempting to register factory for plugin cuDNN when one has already been registered\n",
      "2024-01-06 06:18:04.715651: E tensorflow/compiler/xla/stream_executor/cuda/cuda_fft.cc:609] Unable to register cuFFT factory: Attempting to register factory for plugin cuFFT when one has already been registered\n",
      "2024-01-06 06:18:04.715680: E tensorflow/compiler/xla/stream_executor/cuda/cuda_blas.cc:1518] Unable to register cuBLAS factory: Attempting to register factory for plugin cuBLAS when one has already been registered\n",
      "2024-01-06 06:18:04.724795: I tensorflow/tsl/cuda/cudart_stub.cc:28] Could not find cuda drivers on your machine, GPU will not be used.\n",
      "2024-01-06 06:18:04.725862: I tensorflow/core/platform/cpu_feature_guard.cc:182] This TensorFlow binary is optimized to use available CPU instructions in performance-critical operations.\n",
      "To enable the following instructions: AVX2 AVX512F AVX512_VNNI FMA, in other operations, rebuild TensorFlow with the appropriate compiler flags.\n",
      "2024-01-06 06:18:06.190682: W tensorflow/compiler/tf2tensorrt/utils/py_utils.cc:38] TF-TRT Warning: Could not find TensorRT\n"
     ]
    }
   ],
   "source": [
    "import os\n",
    "import pandas as pd\n",
    "import numpy as np\n",
    "import matplotlib.pyplot as plt\n",
    "from sklearn.model_selection import train_test_split\n",
    "from sklearn.model_selection import LeaveOneOut\n",
    "from sklearn.metrics import accuracy_score, confusion_matrix, f1_score\n",
    "from scipy import stats\n",
    "import matplotlib.ticker as ticker\n",
    "from sklearn.preprocessing import LabelEncoder\n",
    "from sklearn.utils.class_weight import compute_class_weight\n",
    "\n",
    "from collections import Counter\n",
    "import math\n",
    "\n",
    "from keras.optimizers import Adam\n",
    "from keras.models import Sequential\n",
    "from keras.layers import LSTM, Dense, Flatten, Dropout, Conv2D, BatchNormalization, Flatten, Reshape, MaxPooling2D, Bidirectional, ConvLSTM2D\n",
    "from keras.regularizers import l1, l2\n",
    "\n",
    "seed = 31102016 \n",
    "rng = np.random.RandomState(seed)\n",
    "\n",
    "\n",
    "SENSOR_CHANNELS = 3\n",
    "SLIDING_WINDOW_LENGTH = 125\n",
    "batch_size = 128"
   ]
  },
  {
   "cell_type": "code",
   "execution_count": 3,
   "id": "e56a529e",
   "metadata": {},
   "outputs": [],
   "source": [
    "def sliding_window(X):\n",
    "    step = 10\n",
    "    segments = []\n",
    "    labels = []\n",
    "\n",
    "    for i in range(0, len(breatheNormalDataset)-SLIDING_WINDOW_LENGTH, step):\n",
    "        xs = breatheNormalDataset['accel_x'].values[i: i+SLIDING_WINDOW_LENGTH]\n",
    "        ys = breatheNormalDataset['accel_y'].values[i: i+SLIDING_WINDOW_LENGTH]\n",
    "        zs = breatheNormalDataset['accel_z'].values[i: i+SLIDING_WINDOW_LENGTH]\n",
    "\n",
    "        label = stats.mode(breatheNormalDataset['activity_label'][i: i+SLIDING_WINDOW_LENGTH])[0][0]\n",
    "        segments.append([xs, ys, zs])\n",
    "        labels.append(label)\n",
    "\n",
    "    reshaped_segments = np.asarray(segments)\n",
    "    labels = np.asarray(pd.get_dummies(labels), dtype=np.float32)\n",
    "    \n",
    "    X_train, X_test, y_train, y_test = train_test_split(reshaped_segments, labels, test_size=0.2, random_state=rng)\n",
    "    \n",
    "    return np.concatenate((X_test, X_train), axis=0), np.concatenate((y_test, y_train), axis=0)"
   ]
  },
  {
   "cell_type": "code",
   "execution_count": 4,
   "id": "13969d9b",
   "metadata": {},
   "outputs": [],
   "source": [
    "def build_model():\n",
    "    output_dim = 12\n",
    "    epochs = 100\n",
    "    dropout_rate = 0.1\n",
    "\n",
    "    input_shape=(SENSOR_CHANNELS, SLIDING_WINDOW_LENGTH)\n",
    "\n",
    "    # LSTM parameters\n",
    "    n_neurons_lstm = 256\n",
    "    n_neurons = 64\n",
    "\n",
    "    # optimization parameters\n",
    "    lr = 0.0015\n",
    "    decay = 1e-6\n",
    "\n",
    "    model = Sequential()\n",
    "\n",
    "    model.add(Bidirectional(LSTM(units = n_neurons_lstm, activation='relu',\n",
    "                                 kernel_regularizer=l2(0.000002), bias_regularizer=l2(0.000002)), input_shape=(3,125)))\n",
    "    model.add(Dropout(dropout_rate))\n",
    "\n",
    "    model.add(Dense(n_neurons, activation='relu', kernel_regularizer=l2(0.000002), bias_regularizer=l2(0.000002)))\n",
    "\n",
    "    model.add(Dense(output_dim, activation='softmax', kernel_regularizer=l2(0.000002), bias_regularizer=l2(0.000002)))\n",
    "\n",
    "    adam = Adam(learning_rate=lr, weight_decay=decay)\n",
    "\n",
    "    model.compile(loss='categorical_crossentropy', optimizer=adam, metrics=['accuracy'])\n",
    "\n",
    "    model.summary()\n",
    "    \n",
    "    return model"
   ]
  },
  {
   "cell_type": "code",
   "execution_count": 5,
   "id": "011a0baa",
   "metadata": {},
   "outputs": [],
   "source": [
    "filename = \"dataset/consolidated.csv\"  # raw consolidated data\n",
    "dataset = pd.read_csv(filename, index_col='Unnamed: 0')\n",
    "\n",
    "breatheNormalDataset = dataset[dataset.sub_activity == 'breathingNormal']\n",
    "\n",
    "students = breatheNormalDataset.student_number.unique()"
   ]
  },
  {
   "cell_type": "code",
   "execution_count": null,
   "id": "61bcf535",
   "metadata": {
    "scrolled": true
   },
   "outputs": [],
   "source": [
    "accuracies = []\n",
    "histories = []\n",
    "\n",
    "for i,student in enumerate(students):\n",
    "    train_dataset = breatheNormalDataset[breatheNormalDataset.student_number != student]\n",
    "    test_dataset = breatheNormalDataset[breatheNormalDataset.student_number == student]\n",
    "    \n",
    "    X_train, y_train = sliding_window(train_dataset)\n",
    "    X_test, y_test = sliding_window(test_dataset)\n",
    "    \n",
    "    model = build_model()\n",
    "    \n",
    "    history = model.fit(X_train, y_train, epochs = 100, validation_split = 0.20, batch_size = batch_size)\n",
    "    accuracy = model.evaluate(X_test, y_test, batch_size = 32)\n",
    "    \n",
    "    accuracies.append(accuracy[1])\n",
    "    histories.append(history)\n",
    "    \n",
    "    print(f'{i}/{len(students)}', accuracy, np.average(accuracies))\n",
    "    \n",
    "    plt.figure(figsize=(15,10))\n",
    "    plt.plot(np.array(history.history['loss']), \"r--\", label = \"Train loss\")\n",
    "    plt.plot(np.array(history.history['accuracy']), \"g--\", label = \"Train accuracy\")\n",
    "    plt.plot(np.array(history.history['val_loss']), \"r-\", label = \"Validation loss\")\n",
    "    plt.plot(np.array(history.history['val_accuracy']), \"g-\", label = \"Validation accuracy\")\n",
    "    plt.title(\"Training session's progress over iterations\")\n",
    "    plt.legend(loc='lower left')\n",
    "    plt.ylabel('Training Progress (Loss/Accuracy)')\n",
    "    plt.xlabel('Training Epoch')\n",
    "    # plt.ylim(0)\n",
    "    plt.grid()\n",
    "    plt.show()"
   ]
  },
  {
   "cell_type": "code",
   "execution_count": null,
   "id": "872b7596",
   "metadata": {},
   "outputs": [],
   "source": []
  }
 ],
 "metadata": {
  "kernelspec": {
   "display_name": "Python 3 (ipykernel)",
   "language": "python",
   "name": "python3"
  },
  "language_info": {
   "codemirror_mode": {
    "name": "ipython",
    "version": 3
   },
   "file_extension": ".py",
   "mimetype": "text/x-python",
   "name": "python",
   "nbconvert_exporter": "python",
   "pygments_lexer": "ipython3",
   "version": "3.10.12"
  }
 },
 "nbformat": 4,
 "nbformat_minor": 5
}
