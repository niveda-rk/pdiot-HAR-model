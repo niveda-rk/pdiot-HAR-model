{
 "cells": [
  {
   "cell_type": "code",
   "execution_count": 1,
   "id": "c6d093f1",
   "metadata": {},
   "outputs": [],
   "source": [
    "# import pandas as pd\n",
    "# import numpy as np\n",
    "# import tensorflow as tf\n",
    "# from sklearn.preprocessing import LabelEncoder\n",
    "# from keras.utils import to_categorical\n",
    "\n",
    "# df = pd.read_csv('iris.data')\n",
    "\n",
    "# X = df.iloc[:, :4].values\n",
    "# y = df.iloc[:, 4].values\n",
    "\n",
    "# le = LabelEncoder()\n",
    "\n",
    "# y = le.fit_transform(y)\n",
    "# y = to_categorical(y)\n",
    "\n",
    "\n",
    "# from tensorflow.keras.layers import Dense\n",
    "# from tensorflow.keras.models import Sequential\n",
    "\n",
    "# model = Sequential()\n",
    "\n",
    "# model.add(Dense(64, activation='relu', input_shape=[4]))\n",
    "# model.add(Dense(64))\n",
    "# model.add(Dense(3, activation='softmax'))\n",
    "\n",
    "# model.compile(optimizer='sgd', loss='categorical_crossentropy',\n",
    "#               metrics=['acc'])\n",
    "\n",
    "\n",
    "# model.fit(X, y, epochs=200)\n",
    "\n",
    "\n",
    "# from tensorflow import lite\n",
    "# converter = lite.TFLiteConverter.from_keras_model(model)\n",
    "\n",
    "# tfmodel = converter.convert()\n",
    "\n",
    "# open('iris.tflite', 'wb').write(tfmodel)\n"
   ]
  },
  {
   "cell_type": "code",
   "execution_count": 12,
   "id": "4d182f19",
   "metadata": {},
   "outputs": [],
   "source": [
    "import tensorflow as tf\n",
    "import numpy as np\n",
    "from tensorflow import keras\n",
    "from tensorflow import lite\n"
   ]
  },
  {
   "cell_type": "code",
   "execution_count": 16,
   "id": "96cd66d2",
   "metadata": {},
   "outputs": [],
   "source": [
    "model=keras.Sequential([keras.layers.Dense(units=1, input_shape=[150])])\n",
    "model.compile(optimizer='sgd',loss='mean_squared_error')"
   ]
  },
  {
   "cell_type": "code",
   "execution_count": 19,
   "id": "25c2b285",
   "metadata": {},
   "outputs": [],
   "source": [
    "xs= np.array(np.random.random_sample([12,150]), dtype=np.float32)\n",
    "ys= np.array([0,1,2,3,4,5,6,7,8,9,10,11],dtype=np.int32)"
   ]
  },
  {
   "cell_type": "code",
   "execution_count": 20,
   "id": "aaee7bb8",
   "metadata": {},
   "outputs": [
    {
     "name": "stdout",
     "output_type": "stream",
     "text": [
      "Epoch 1/50\n",
      "1/1 [==============================] - 0s 427ms/step - loss: 51.8563\n",
      "Epoch 2/50\n",
      "1/1 [==============================] - 0s 5ms/step - loss: 12.6430\n",
      "Epoch 3/50\n",
      "1/1 [==============================] - 0s 5ms/step - loss: 10.6257\n",
      "Epoch 4/50\n",
      "1/1 [==============================] - 0s 7ms/step - loss: 10.1410\n",
      "Epoch 5/50\n",
      "1/1 [==============================] - 0s 6ms/step - loss: 9.7357\n",
      "Epoch 6/50\n",
      "1/1 [==============================] - 0s 6ms/step - loss: 9.3500\n",
      "Epoch 7/50\n",
      "1/1 [==============================] - 0s 2ms/step - loss: 8.9806\n",
      "Epoch 8/50\n",
      "1/1 [==============================] - 0s 8ms/step - loss: 8.6267\n",
      "Epoch 9/50\n",
      "1/1 [==============================] - 0s 5ms/step - loss: 8.2877\n",
      "Epoch 10/50\n",
      "1/1 [==============================] - 0s 6ms/step - loss: 7.9628\n",
      "Epoch 11/50\n",
      "1/1 [==============================] - 0s 8ms/step - loss: 7.6514\n",
      "Epoch 12/50\n",
      "1/1 [==============================] - 0s 7ms/step - loss: 7.3530\n",
      "Epoch 13/50\n",
      "1/1 [==============================] - 0s 9ms/step - loss: 7.0670\n",
      "Epoch 14/50\n",
      "1/1 [==============================] - 0s 9ms/step - loss: 6.7928\n",
      "Epoch 15/50\n",
      "1/1 [==============================] - 0s 5ms/step - loss: 6.5299\n",
      "Epoch 16/50\n",
      "1/1 [==============================] - 0s 5ms/step - loss: 6.2778\n",
      "Epoch 17/50\n",
      "1/1 [==============================] - 0s 8ms/step - loss: 6.0361\n",
      "Epoch 18/50\n",
      "1/1 [==============================] - 0s 5ms/step - loss: 5.8042\n",
      "Epoch 19/50\n",
      "1/1 [==============================] - 0s 9ms/step - loss: 5.5819\n",
      "Epoch 20/50\n",
      "1/1 [==============================] - 0s 8ms/step - loss: 5.3686\n",
      "Epoch 21/50\n",
      "1/1 [==============================] - 0s 9ms/step - loss: 5.1639\n",
      "Epoch 22/50\n",
      "1/1 [==============================] - 0s 7ms/step - loss: 4.9675\n",
      "Epoch 23/50\n",
      "1/1 [==============================] - 0s 8ms/step - loss: 4.7791\n",
      "Epoch 24/50\n",
      "1/1 [==============================] - 0s 8ms/step - loss: 4.5983\n",
      "Epoch 25/50\n",
      "1/1 [==============================] - 0s 7ms/step - loss: 4.4247\n",
      "Epoch 26/50\n",
      "1/1 [==============================] - 0s 10ms/step - loss: 4.2582\n",
      "Epoch 27/50\n",
      "1/1 [==============================] - 0s 6ms/step - loss: 4.0982\n",
      "Epoch 28/50\n",
      "1/1 [==============================] - 0s 9ms/step - loss: 3.9447\n",
      "Epoch 29/50\n",
      "1/1 [==============================] - 0s 8ms/step - loss: 3.7973\n",
      "Epoch 30/50\n",
      "1/1 [==============================] - 0s 9ms/step - loss: 3.6557\n",
      "Epoch 31/50\n",
      "1/1 [==============================] - 0s 11ms/step - loss: 3.5197\n",
      "Epoch 32/50\n",
      "1/1 [==============================] - 0s 9ms/step - loss: 3.3891\n",
      "Epoch 33/50\n",
      "1/1 [==============================] - 0s 6ms/step - loss: 3.2637\n",
      "Epoch 34/50\n",
      "1/1 [==============================] - 0s 13ms/step - loss: 3.1431\n",
      "Epoch 35/50\n",
      "1/1 [==============================] - 0s 8ms/step - loss: 3.0274\n",
      "Epoch 36/50\n",
      "1/1 [==============================] - 0s 9ms/step - loss: 2.9161\n",
      "Epoch 37/50\n",
      "1/1 [==============================] - 0s 8ms/step - loss: 2.8092\n",
      "Epoch 38/50\n",
      "1/1 [==============================] - 0s 10ms/step - loss: 2.7064\n",
      "Epoch 39/50\n",
      "1/1 [==============================] - 0s 10ms/step - loss: 2.6076\n",
      "Epoch 40/50\n",
      "1/1 [==============================] - 0s 6ms/step - loss: 2.5127\n",
      "Epoch 41/50\n",
      "1/1 [==============================] - 0s 8ms/step - loss: 2.4214\n",
      "Epoch 42/50\n",
      "1/1 [==============================] - 0s 5ms/step - loss: 2.3337\n",
      "Epoch 43/50\n",
      "1/1 [==============================] - 0s 8ms/step - loss: 2.2493\n",
      "Epoch 44/50\n",
      "1/1 [==============================] - 0s 8ms/step - loss: 2.1681\n",
      "Epoch 45/50\n",
      "1/1 [==============================] - 0s 7ms/step - loss: 2.0901\n",
      "Epoch 46/50\n",
      "1/1 [==============================] - 0s 6ms/step - loss: 2.0150\n",
      "Epoch 47/50\n",
      "1/1 [==============================] - 0s 5ms/step - loss: 1.9428\n",
      "Epoch 48/50\n",
      "1/1 [==============================] - 0s 7ms/step - loss: 1.8734\n",
      "Epoch 49/50\n",
      "1/1 [==============================] - 0s 10ms/step - loss: 1.8065\n",
      "Epoch 50/50\n",
      "1/1 [==============================] - 0s 7ms/step - loss: 1.7422\n"
     ]
    },
    {
     "data": {
      "text/plain": [
       "<keras.callbacks.History at 0x29493c69508>"
      ]
     },
     "execution_count": 20,
     "metadata": {},
     "output_type": "execute_result"
    }
   ],
   "source": [
    "model.fit(xs,ys,epochs=50)"
   ]
  },
  {
   "cell_type": "code",
   "execution_count": 34,
   "id": "79b976ee",
   "metadata": {},
   "outputs": [
    {
     "name": "stdout",
     "output_type": "stream",
     "text": [
      "1/1 [==============================] - 0s 18ms/step\n"
     ]
    }
   ],
   "source": [
    "k=model.predict(np.random.random_sample([1,150]),)"
   ]
  },
  {
   "cell_type": "code",
   "execution_count": 35,
   "id": "fa92237a",
   "metadata": {},
   "outputs": [
    {
     "data": {
      "text/plain": [
       "array([[5.0338964]], dtype=float32)"
      ]
     },
     "execution_count": 35,
     "metadata": {},
     "output_type": "execute_result"
    }
   ],
   "source": [
    "k\n"
   ]
  },
  {
   "cell_type": "code",
   "execution_count": 36,
   "id": "e0741ebf",
   "metadata": {},
   "outputs": [
    {
     "name": "stdout",
     "output_type": "stream",
     "text": [
      "INFO:tensorflow:Assets written to: C:\\Users\\Arun8\\AppData\\Local\\Temp\\tmp2ehcmgb7\\assets\n"
     ]
    }
   ],
   "source": [
    "converter = tf.lite.TFLiteConverter.from_keras_model(model)\n",
    "tflite_model = converter.convert()\n",
    "with open('arun.tflite', 'wb') as f:\n",
    "  f.write(tflite_model)"
   ]
  },
  {
   "cell_type": "code",
   "execution_count": 22,
   "id": "8b2e11fc",
   "metadata": {},
   "outputs": [
    {
     "data": {
      "text/plain": [
       "(1, 1)"
      ]
     },
     "execution_count": 22,
     "metadata": {},
     "output_type": "execute_result"
    }
   ],
   "source": [
    "\n"
   ]
  },
  {
   "cell_type": "code",
   "execution_count": 7,
   "id": "800b11e9",
   "metadata": {},
   "outputs": [],
   "source": []
  },
  {
   "cell_type": "code",
   "execution_count": null,
   "id": "7b0a94d9",
   "metadata": {},
   "outputs": [],
   "source": []
  }
 ],
 "metadata": {
  "kernelspec": {
   "display_name": "Python 3 (ipykernel)",
   "language": "python",
   "name": "python3"
  },
  "language_info": {
   "codemirror_mode": {
    "name": "ipython",
    "version": 3
   },
   "file_extension": ".py",
   "mimetype": "text/x-python",
   "name": "python",
   "nbconvert_exporter": "python",
   "pygments_lexer": "ipython3",
   "version": "3.7.16"
  }
 },
 "nbformat": 4,
 "nbformat_minor": 5
}
